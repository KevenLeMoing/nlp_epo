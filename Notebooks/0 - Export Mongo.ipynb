{
 "cells": [
  {
   "cell_type": "code",
   "execution_count": 1,
   "metadata": {
    "collapsed": true
   },
   "outputs": [],
   "source": [
    "# Libraire Paramiko sert à établir une connection SSH\n",
    "\n",
    "import sys, paramiko"
   ]
  },
  {
   "cell_type": "code",
   "execution_count": 8,
   "metadata": {
    "collapsed": false
   },
   "outputs": [],
   "source": [
    "# Connection au serveur hébergeant la base mongo \n",
    "\n",
    "client = paramiko.SSHClient()\n",
    "client.load_system_host_keys()\n",
    "client.set_missing_host_key_policy(paramiko.WarningPolicy())    \n",
    "client.connect('http://ubuntucloud1', port=22, username='mongo', password='mongo')"
   ]
  },
  {
   "cell_type": "code",
   "execution_count": 9,
   "metadata": {
    "collapsed": false
   },
   "outputs": [
    {
     "name": "stdout",
     "output_type": "stream",
     "text": [
      ".\n",
      "..\n",
      "baobab_data\n",
      "baobab_tf_idf.csv\n",
      ".bash_history\n",
      ".bash_logout\n",
      ".bashrc\n",
      ".cache\n",
      ".dbshell\n",
      "discriminant.js\n",
      "docService.json\n",
      "dump\n",
      "dump_de\n",
      "dump_fr\n",
      "dump_fulltext_1\n",
      "dump_fulltext_2\n",
      "dump_louis\n",
      "dump.tar.gz\n",
      "dumptfidf\n",
      "groupseq.json\n",
      "keven\n",
      "mongo_cluster_scripts\n",
      "mongo_cluster.tar\n",
      "mongodb-linux-x86_64-2.4.8\n",
      "mongodb-linux-x86_64-2.4.9\n",
      "mongodb-linux-x86_64-2.6.8\n",
      "mongodb-linux-x86_64-2.6.8.tgz\n",
      ".mongorc.js\n",
      "mongo_scripts\n",
      "Nicolas\n",
      ".profile\n",
      "repairAllDatabases.js\n",
      "resultmatching.bson\n",
      ".ssh\n",
      "tempExportMongo\n",
      "testdump\n",
      "test.json\n",
      ".viminfo\n",
      "\n"
     ]
    }
   ],
   "source": [
    "# Execution de la commande LINUX \n",
    "\n",
    "stdin, stdout, stderr = client.exec_command('ls -a')\n",
    "print stdout.read()"
   ]
  },
  {
   "cell_type": "code",
   "execution_count": 11,
   "metadata": {
    "collapsed": false
   },
   "outputs": [
    {
     "name": "stdout",
     "output_type": "stream",
     "text": [
      "\n"
     ]
    }
   ],
   "source": [
    "stdin, stdout, stderr = client.exec_command('mongoexport --port 31017  -d baobab -c bibli_ft --fieldFile ./keven/Data_EPO/FieldsData_mongo.txt -q \"{classification_cpc:{ \\$exists: true, \\$not: {\\$size: 0} }})\" --csv -o ./keven/Data_EPO/data_mongo.csv  -limit 10000')\n",
    "print stdout.read()"
   ]
  },
  {
   "cell_type": "code",
   "execution_count": 12,
   "metadata": {
    "collapsed": false
   },
   "outputs": [
    {
     "name": "stdout",
     "output_type": "stream",
     "text": [
      "\n"
     ]
    }
   ],
   "source": [
    "stdin, stdout, stderr = client.exec_command('cd keven')\n",
    "print stdout.read()"
   ]
  },
  {
   "cell_type": "code",
   "execution_count": 14,
   "metadata": {
    "collapsed": false
   },
   "outputs": [
    {
     "name": "stdout",
     "output_type": "stream",
     "text": [
      "baobab_data\n",
      "baobab_tf_idf.csv\n",
      "discriminant.js\n",
      "docService.json\n",
      "dump\n",
      "dump_de\n",
      "dump_fr\n",
      "dump_fulltext_1\n",
      "dump_fulltext_2\n",
      "dump_louis\n",
      "dump.tar.gz\n",
      "dumptfidf\n",
      "groupseq.json\n",
      "keven\n",
      "mongo_cluster_scripts\n",
      "mongo_cluster.tar\n",
      "mongodb-linux-x86_64-2.4.8\n",
      "mongodb-linux-x86_64-2.4.9\n",
      "mongodb-linux-x86_64-2.6.8\n",
      "mongodb-linux-x86_64-2.6.8.tgz\n",
      "mongo_scripts\n",
      "Nicolas\n",
      "repairAllDatabases.js\n",
      "resultmatching.bson\n",
      "tempExportMongo\n",
      "testdump\n",
      "test.json\n",
      "\n"
     ]
    }
   ],
   "source": [
    "stdin, stdout, stderr = client.exec_command('ls')\n",
    "print stdout.read()"
   ]
  },
  {
   "cell_type": "code",
   "execution_count": 15,
   "metadata": {
    "collapsed": true
   },
   "outputs": [],
   "source": [
    "stdin, stdout, stderr = client.exec_command('cd keven')"
   ]
  },
  {
   "cell_type": "code",
   "execution_count": 16,
   "metadata": {
    "collapsed": false
   },
   "outputs": [
    {
     "name": "stdout",
     "output_type": "stream",
     "text": [
      "baobab_data\n",
      "baobab_tf_idf.csv\n",
      "discriminant.js\n",
      "docService.json\n",
      "dump\n",
      "dump_de\n",
      "dump_fr\n",
      "dump_fulltext_1\n",
      "dump_fulltext_2\n",
      "dump_louis\n",
      "dump.tar.gz\n",
      "dumptfidf\n",
      "groupseq.json\n",
      "keven\n",
      "mongo_cluster_scripts\n",
      "mongo_cluster.tar\n",
      "mongodb-linux-x86_64-2.4.8\n",
      "mongodb-linux-x86_64-2.4.9\n",
      "mongodb-linux-x86_64-2.6.8\n",
      "mongodb-linux-x86_64-2.6.8.tgz\n",
      "mongo_scripts\n",
      "Nicolas\n",
      "repairAllDatabases.js\n",
      "resultmatching.bson\n",
      "tempExportMongo\n",
      "testdump\n",
      "test.json\n",
      "\n"
     ]
    }
   ],
   "source": [
    "stdin, stdout, stderr = client.exec_command('ls')\n",
    "print stdout.read()"
   ]
  },
  {
   "cell_type": "code",
   "execution_count": null,
   "metadata": {
    "collapsed": true
   },
   "outputs": [],
   "source": [
    ""
   ]
  }
 ],
 "metadata": {
  "kernelspec": {
   "display_name": "Python 2",
   "language": "python",
   "name": "python2"
  },
  "language_info": {
   "codemirror_mode": {
    "name": "ipython",
    "version": 2.0
   },
   "file_extension": ".py",
   "mimetype": "text/x-python",
   "name": "python",
   "nbconvert_exporter": "python",
   "pygments_lexer": "ipython2",
   "version": "2.7.11"
  }
 },
 "nbformat": 4,
 "nbformat_minor": 0
}