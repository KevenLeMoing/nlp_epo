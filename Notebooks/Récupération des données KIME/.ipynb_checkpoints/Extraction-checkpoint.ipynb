{
 "cells": [
  {
   "cell_type": "code",
   "execution_count": 1,
   "metadata": {
    "collapsed": true
   },
   "outputs": [],
   "source": [
    "import pymongo\n",
    "from pymongo import MongoClient\n",
    "\n",
    "import csv"
   ]
  },
  {
   "cell_type": "code",
   "execution_count": 2,
   "metadata": {
    "collapsed": false
   },
   "outputs": [],
   "source": [
    "client = MongoClient('192.168.40.184', 27017)\n",
    "db = client.kimetext"
   ]
  },
  {
   "cell_type": "code",
   "execution_count": 4,
   "metadata": {
    "collapsed": false,
    "scrolled": false
   },
   "outputs": [
    {
     "name": "stdout",
     "output_type": "stream",
     "text": [
      "('We have ', 1, 'french publications')\n",
      "('We have ', 1, 'french claims')\n",
      "('We have ', 1, 'french description')\n",
      "('We have ', 0, 'french abstract')\n"
     ]
    }
   ],
   "source": [
    "#Import de Metadata : enregistrement de sectionID et Version pour chaque full_text\n",
    "\n",
    "cursor = db.metadata.find()\n",
    "                           \n",
    "# Implémentation du \"writer\"\n",
    "file_path = \"\\Users\\k_lemo\\Documents\\Stage\\Data_EPO\\TextID_import.csv\"\n",
    "file = open(file_path, \"wb\")\n",
    "writer = csv.writer(file)\n",
    "\n",
    "# Ecriture de la ligne d'en-tête \n",
    "writer.writerow( ('FamilyID','PublicationID','Titre','SectionID','Version') )\n",
    "\n",
    "# Variables\n",
    "pubCount,claimsCount, desCount, absCount =0, 0, 0, 0\n",
    "\n",
    "for doc in cursor:\n",
    "    \n",
    "# On vérifie si la famille possède une application \n",
    "    \n",
    "    FamilyID = doc[\"_familyId\"]\n",
    "    if doc.has_key(\"_applications\"):\n",
    "        applications = doc[\"_applications\"]\n",
    "    \n",
    "# Application level --------------------------------------------------------------------------------------------        \n",
    "        \n",
    "        for app in applications:\n",
    "            \n",
    "# On vérifie si l\"application possède une publication\n",
    "            \n",
    "            applicationID=app[\"_applicationRID\"]\n",
    "            if app.has_key(\"_publications\"): \n",
    "                publications = app[\"_publications\"]\n",
    "\n",
    "# Publication level ---------------------------------------------------------------------------------------------\n",
    "\n",
    "                for publi in publications:\n",
    "        \n",
    "# On stocke ces deux premiers champs pour pouvoir les écrire en CSV : il s'agit de l'ID et du titre de la publication\n",
    "    \n",
    "                    pubNb = publi[\"_publicationRID\"]        \n",
    "                    if publi.has_key(\"_title\"):\n",
    "                        ti = publi[\"_title\"]\n",
    "                    else:\n",
    "                        ti=\"No title\"\n",
    "                        \n",
    "# On vérifie si la publication possède des textes (champs sections) et si elle est française\n",
    "\n",
    "                    if publi.has_key(\"sections\") and publi[\"_publicationId\"][\"CC\"]=='FR':     \n",
    "                        pubCount+=1\n",
    "                        sections = publi[\"sections\"]        \n",
    "# Text level----------------------------------------------------------------------------------------------------            \n",
    "                        \n",
    "# On vérifie si la publication possède une partie \"Claims\" et on l'écrit si elle est en français. \n",
    "\n",
    "                        if sections.has_key(\"claims\"):        \n",
    "                            claims = sections[\"claims\"]\n",
    "                            if claims.has_key(\"text\"):\n",
    "                                text = claims[\"text\"]\n",
    "                                for te in text:\n",
    "                                    language = te[\"language\"]\n",
    "                                    claID = te[\"_sectionId\"]\n",
    "                                    claNb = te[\"_version\"]\n",
    "                                    if language == 'FR':\n",
    "                                        claimsCount += 1\n",
    "                                        writer.writerow( (FamilyID,pubNb,ti,claID,claNb) )\n",
    "                            \n",
    "# Même opération pour les parties \"Description\" et \"Abstract\" de la publication\n",
    "\n",
    "                        if sections.has_key(\"description\"):        \n",
    "                            description = sections[\"description\"]\n",
    "                            if description.has_key(\"text\"):\n",
    "                                text = description[\"text\"]\n",
    "                                for te in text:\n",
    "                                    language = te[\"language\"]\n",
    "                                    desID = te[\"_sectionId\"]\n",
    "                                    desNb = te[\"_version\"]\n",
    "                                    if language == 'FR':\n",
    "                                        desCount += 1\n",
    "                                        writer.writerow( (FamilyID,pubNb,ti,desID,desNb) )       \n",
    "\n",
    "                        if sections.has_key(\"abstract\"):        \n",
    "                            abstract = sections[\"abstract\"]\n",
    "                            if abstract.has_key(\"text\"):\n",
    "                                text = abstract[\"text\"]\n",
    "                                for te in text:\n",
    "                                    if te.has_key(\"language\"):\n",
    "                                        language = te[\"language\"]\n",
    "                                        absID = te[\"_sectionId\"]\n",
    "                                        absNb = te[\"_version\"]\n",
    "                                        if language == 'FR':\n",
    "                                            absCount += 1\n",
    "                                            writer.writerow( (FamilyID,pubNb,ti,absID,absNb) )\n",
    "file.close()\n",
    "print(\"We have \", pubCount , \"french publications\")\n",
    "print(\"We have \", claimsCount , \"french claims\")\n",
    "print(\"We have \", desCount , \"french description\")   \n",
    "print(\"We have \", absCount , \"french abstract\")      "
   ]
  },
  {
   "cell_type": "code",
   "execution_count": 5,
   "metadata": {
    "collapsed": false
   },
   "outputs": [
    {
     "name": "stdout",
     "output_type": "stream",
     "text": [
      "('We have ', 4, ' matches ! ')\n"
     ]
    }
   ],
   "source": [
    "#Import de XML\n",
    "\n",
    "cursor = db.xml.find()\n",
    "    \n",
    "# Implémentation du \"writer\"\n",
    "w = open('\\Users\\k_lemo\\Documents\\Stage\\Data_EPO\\TextXml_import.csv', 'wb')\n",
    "writer = csv.writer(w)\n",
    "\n",
    "# Ecriture de la ligne d'en-tête \n",
    "writer.writerow( ('SectionID','Version','Full_text','Type') )\n",
    "\n",
    "# Fichier à lire \n",
    "filename = '\\Users\\k_lemo\\Documents\\Stage\\Data_EPO\\TextID_import.csv'\n",
    "x,y=0,0\n",
    "\n",
    "for doc in cursor:\n",
    "    text = doc[\"body\"]\n",
    "    tev = doc[\"_version\"]\n",
    "    teid = doc[\"_sectionId\"]\n",
    "    tip = doc[\"_type\"]\n",
    "       \n",
    "    with open(filename, 'rb') as f:\n",
    "        reader = csv.reader(f)\n",
    "        for row in reader:\n",
    "            # Pour le traitements des full_text\n",
    "            if row[3]==teid and row[4]==tev:\n",
    "                writer.writerow( (teid,tev,text.encode('utf-8'),tip) )\n",
    "                x+=1\n",
    "            # Pour le traitement des classes CPC\n",
    "            elif row[0]==teid :\n",
    "                writer.writerow( (teid,tev,text.encode('utf-8'),tip) )\n",
    "                y+=1\n",
    "        f.close()\n",
    "\n",
    "         \n",
    "print (\"We have \", x+y, \" matches ! \")            \n",
    "file.close()"
   ]
  },
  {
   "cell_type": "code",
   "execution_count": null,
   "metadata": {
    "collapsed": true
   },
   "outputs": [],
   "source": []
  }
 ],
 "metadata": {
  "kernelspec": {
   "display_name": "Python 2",
   "language": "python",
   "name": "python2"
  },
  "language_info": {
   "codemirror_mode": {
    "name": "ipython",
    "version": 2
   },
   "file_extension": ".py",
   "mimetype": "text/x-python",
   "name": "python",
   "nbconvert_exporter": "python",
   "pygments_lexer": "ipython2",
   "version": "2.7.11"
  }
 },
 "nbformat": 4,
 "nbformat_minor": 0
}
