{
 "cells": [
  {
   "cell_type": "markdown",
   "metadata": {},
   "source": [
    "C:\\Users\\k_lemo\\Documents\\Stage\\Data\\KIME\\METADATA\\metadata.csv ---> DocId,Type,SectionId,VersionId                       0.7 Go\n",
    "C:\\Users\\k_lemo\\Documents\\Stage\\Data\\KIME\\XML\\importXml1\\importXml1_titreCpc.csv-> DocId, FullText(PublicationInformation) 6.4Go\n",
    "C:\\Users\\k_lemo\\Documents\\Stage\\Data\\KIME\\XML\\importXml2\\(8 parties) ---> SectionId,Fulltext                               65 Go"
   ]
  },
  {
   "cell_type": "code",
   "execution_count": 1,
   "metadata": {
    "collapsed": false
   },
   "outputs": [],
   "source": [
    "import csv\n",
    "from csv import *\n",
    "import pandas as pd\n",
    "from pandas import *\n",
    "\n",
    "#Importation de BeautifulSoup\n",
    "import bs4 as bs\n",
    "from bs4 import BeautifulSoup\n",
    "\n",
    "#Importation de re pour traiter les expressions régulières\n",
    "import re\n",
    "\n",
    "# Librairie contenant tous les stop-words\n",
    "import nltk\n",
    "from nltk.corpus import stopwords\n",
    "\n",
    "from lxml import etree\n",
    "import xml.etree.ElementTree as ET\n",
    "from lxml import objectify\n",
    "\n",
    "import xml.parsers.expat as xmlparser\n",
    "\n",
    "import re\n",
    "\n",
    "import io\n",
    "from io import StringIO, BytesIO\n",
    "\n",
    "import time\n",
    "\n",
    "from ipykernel import kernelapp as app"
   ]
  },
  {
   "cell_type": "code",
   "execution_count": 2,
   "metadata": {
    "collapsed": false
   },
   "outputs": [
    {
     "data": {
      "text/plain": [
       "'<teiHeader><fileDesc><titleStmt><title xml:id=\"_2ab49d8\" type=\"invention\" notation=\"docdba\" xml:lang=\"fr\">CHAUSSURES DE MARCHE</title><funder role=\"applicant\" sortKey=\"1\"><name notation=\"docdb\">BYONG RYOL AHN</name><address type=\"adrResidence\"><country type=\"national\">KR</country></address><name notation=\"docdba\">BYONG RYOL AHN</name></funder><bibl type=\"publication\"><authority><orgName type=\"national\">FR</orgName></authority><idno type=\"docNumber\" notation=\"docdb\">2519520</idno><classCode scheme=\"kindCode\">A1</classCode><date type=\"publicationDate\" when=\"1983-07-18\">19830718</date><idno type=\"docNumber\" notation=\"epodoc\">FR2519520</idno><idno type=\"docId\" notation=\"docdb\">309114555</idno></bibl></titleStmt><publicationStmt><date type=\"publicAvailability\" subtype=\"examinedPrintedWithoutGrant\" when=\"1983-07-18\">19830718</date></publicationStmt><sourceDesc><listBibl type=\"priorityClaims\"><bibl type=\"application\"><authority><orgName type=\"national\">KR</orgName></authority><idno type=\"docNumber\" notation=\"docdb\">820000214</idno><classCode scheme=\"kindCode\">A</classCode><date type=\"filingDate\" when=\"1982-01-09\">19820109</date><idno type=\"docNumber\" notation=\"epodoc\">KR19820000214</idno><idno type=\"docNumber\" notation=\"original\">08200214</idno></bibl></listBibl></sourceDesc></fileDesc><profileDesc><textClass><classCode scheme=\"ipc\" type=\"mainClassification\"><ident type=\"classificationSymbol\">  A 43B  13/26   A</ident></classCode><classCode scheme=\"ipc\" type=\"furtherClassification\"><ident type=\"classificationSymbol\">  A 43B   5/00   B</ident></classCode><classCode scheme=\"ipcr\"><ident type=\"classificationSymbol\">A43B   5/06        20060101A I20051008RMEP        </ident></classCode><classCode scheme=\"ipcr\"><ident type=\"classificationSymbol\">A43B  13/18        20060101A I20051008RMEP        </ident></classCode><classCode scheme=\"ipcr\"><ident type=\"classificationSymbol\">A43B  13/22        20060101A I20051008RMEP        </ident></classCode></textClass></profileDesc></teiHeader><standOff type=\"citations\"><standOff type=\"SEA\"><teiHeader><fileDesc><publicationStmt><authority><orgName type=\"regional\">EP</orgName></authority></publicationStmt></fileDesc></teiHeader><listAnnotation><listAnnotation type=\"citation\"><listBibl type=\"compoundReference\"><bibl type=\"publication\"><authority><orgName type=\"national\">US</orgName></authority><idno type=\"docId\">327666923</idno><idno type=\"docNumber\">3444632</idno><classCode scheme=\"kindCode\">A</classCode><idno type=\"docNumber\" notation=\"dnum\">US3444632A</idno></bibl></listBibl></listAnnotation><listAnnotation type=\"citation\"><listBibl type=\"compoundReference\"><bibl type=\"publication\"><authority><orgName type=\"national\">DE</orgName></authority><idno type=\"docId\">385974505</idno><idno type=\"docNumber\">1750346</idno><classCode scheme=\"kindCode\">U</classCode><idno type=\"docNumber\" notation=\"dnum\">DE1750346U</idno></bibl></listBibl></listAnnotation><listAnnotation type=\"citation\"><listBibl type=\"compoundReference\"><bibl type=\"publication\"><authority><orgName type=\"national\">US</orgName></authority><idno type=\"docId\">314098208</idno><idno type=\"docNumber\">3947979</idno><classCode scheme=\"kindCode\">A</classCode><idno type=\"docNumber\" notation=\"dnum\">US3947979A</idno></bibl></listBibl></listAnnotation><listAnnotation type=\"citation\"><listBibl type=\"compoundReference\"><bibl type=\"publication\"><authority><orgName type=\"national\">US</orgName></authority><idno type=\"docId\">314098209</idno><idno type=\"docNumber\">3961428</idno><classCode scheme=\"kindCode\">A</classCode><idno type=\"docNumber\" notation=\"dnum\">US3961428A</idno></bibl></listBibl></listAnnotation><listAnnotation type=\"citation\"><listBibl type=\"compoundReference\"><bibl type=\"publication\"><authority><orgName type=\"national\">FR</orgName></authority><idno type=\"docId\">388949841</idno><idno type=\"docNumber\">78984</idno><classCode scheme=\"kindCode\">E</classCode><idno type=\"docNumber\" notation=\"dnum\">FR78984E</idno></bibl></listBibl></listAnnotation></listAnnotation></standOff></standOff>'"
      ]
     },
     "execution_count": 2,
     "metadata": {},
     "output_type": "execute_result"
    }
   ],
   "source": [
    "# Import du fichier de test pour récupérer plusieurs balises cpc\n",
    "\n",
    "data = read_csv('C:\\Users\\k_lemo\\Documents\\Stage\\Data\\KIME\\XML\\importXml1\\Test\\parsingtest3.csv',header=None)\n",
    "#tree = etree.parse('/Users/k_lemo/Documents/Stage/Data/KIME/XML/importXml1/Test/new2.xml')\n",
    "data[1][0]"
   ]
  },
  {
   "cell_type": "code",
   "execution_count": 3,
   "metadata": {
    "collapsed": false
   },
   "outputs": [
    {
     "data": {
      "text/html": [
       "<div>\n",
       "<table border=\"1\" class=\"dataframe\">\n",
       "  <thead>\n",
       "    <tr style=\"text-align: right;\">\n",
       "      <th></th>\n",
       "      <th>0</th>\n",
       "      <th>1</th>\n",
       "    </tr>\n",
       "  </thead>\n",
       "  <tbody>\n",
       "    <tr>\n",
       "      <th>0</th>\n",
       "      <td>309114555</td>\n",
       "      <td>&lt;teiHeader&gt;&lt;fileDesc&gt;&lt;titleStmt&gt;&lt;title xml:id=...</td>\n",
       "    </tr>\n",
       "  </tbody>\n",
       "</table>\n",
       "</div>"
      ],
      "text/plain": [
       "           0                                                  1\n",
       "0  309114555  <teiHeader><fileDesc><titleStmt><title xml:id=..."
      ]
     },
     "execution_count": 3,
     "metadata": {},
     "output_type": "execute_result"
    }
   ],
   "source": [
    "data"
   ]
  },
  {
   "cell_type": "markdown",
   "metadata": {},
   "source": [
    "Titre  : teiHeider/fileDesc/titleStmt/title\n",
    "\n",
    "Classification : teiHeider/profileDesc/textClass/classCode/ident type=\"classificationSymbol\"\n",
    "\n",
    "DocId : teiHeider/fileDesc/titleStmt/bibl/idno type=\"docId\" notation=\"docdb\""
   ]
  },
  {
   "cell_type": "code",
   "execution_count": 4,
   "metadata": {
    "collapsed": true
   },
   "outputs": [],
   "source": [
    "data_title = DataFrame(np.zeros(0,dtype=[('DocId', 'i4'),('Title', 'a50')]))\n",
    "# data_cpc = DataFrame(np.zeros(0,dtype=[('DocId', 'i4'),('CPC', 'a50')]))\n",
    "data_cpc2 = DataFrame(np.zeros(0,dtype=[('DocId', 'i4'),('Main_CPC', 'a50'),('Further_CPC', 'a50')]))"
   ]
  },
  {
   "cell_type": "code",
   "execution_count": 4,
   "metadata": {
    "collapsed": false
   },
   "outputs": [],
   "source": [
    "# Pour récupérer l'ensemble des classifications\n",
    "\n",
    "for i in range(len(data)):\n",
    "    docid = data[0][i]\n",
    "    root = ET.fromstring(data[1][i])\n",
    "    title = root.findall(\"./fileDesc/titleStmt/title\")\n",
    "    cpc = root.findall(\".//ident\")\n",
    "\n",
    "    # Le titre\n",
    "    for i in range(len(title)):\n",
    "        ti = title[i].text\n",
    "        data_title = data_title.append({'DocId':docid, 'Title': ti},ignore_index=True) \n",
    "\n",
    "    # Les classifications\n",
    "    for i in range(len(cpc)):\n",
    "        cla = cpc[i].text\n",
    "        data_cpc = data_cpc.append({'DocId':docid,'CPC':cla},ignore_index=True)"
   ]
  },
  {
   "cell_type": "code",
   "execution_count": 5,
   "metadata": {
    "collapsed": false
   },
   "outputs": [
    {
     "ename": "ParseError",
     "evalue": "junk after document element: line 1, column 2001",
     "output_type": "error",
     "traceback": [
      "\u001b[1;36m  File \u001b[1;32m\"<string>\"\u001b[1;36m, line \u001b[1;32munknown\u001b[0m\n\u001b[1;31mParseError\u001b[0m\u001b[1;31m:\u001b[0m junk after document element: line 1, column 2001\n"
     ]
    }
   ],
   "source": [
    "# Pour récupérer uniquement les \"main classifications\" et \"further classifications\"\n",
    "\n",
    "for i in range(len(data)):\n",
    "    docid = data[0][i]\n",
    "    root = ET.fromstring(data[1][i])\n",
    "    title = root.findall(\"./fileDesc/titleStmt/title\")\n",
    "    cpc = root.findall(\".//ident\")\n",
    "\n",
    "    # Le titre\n",
    "    for i in range(len(title)):\n",
    "        ti = title[i].text\n",
    "        data_title = data_title.append({'DocId':docid, 'Title': ti},ignore_index=True)\n",
    "        \n",
    "    # Les classifications\n",
    "    main = cpc[0].text\n",
    "    further = cpc[1].text\n",
    "    data_cpc2 = data_cpc2.append({'DocId':docid,'Main_CPC':main, 'Further_CPC':further},ignore_index=True)"
   ]
  },
  {
   "cell_type": "code",
   "execution_count": 53,
   "metadata": {
    "collapsed": false
   },
   "outputs": [
    {
     "name": "stdout",
     "output_type": "stream",
     "text": [
      "<teiHeader><fileDesc><titleStmt><title xml:id=\"_2ab49d8\" type=\"invention\" notation=\"docdba\" xml:lang=\"fr\">CHAUSSURES DE MARCHE</title><funder role=\"applicant\" sortKey=\"1\"><name notation=\"docdb\">BYONG RYOL AHN</name><address type=\"adrResidence\"><country type=\"national\">KR</country></address><name notation=\"docdba\">BYONG RYOL AHN</name></funder><bibl type=\"publication\"><authority><orgName type=\"national\">FR</orgName></authority><idno type=\"docNumber\" notation=\"docdb\">2519520</idno><classCode scheme=\"kindCode\">A1</classCode><date type=\"publicationDate\" when=\"1983-07-18\">19830718</date><idno type=\"docNumber\" notation=\"epodoc\">FR2519520</idno><idno type=\"docId\" notation=\"docdb\">309114555</idno></bibl></titleStmt><publicationStmt><date type=\"publicAvailability\" subtype=\"examinedPrintedWithoutGrant\" when=\"1983-07-18\">19830718</date></publicationStmt><sourceDesc><listBibl type=\"priorityClaims\"><bibl type=\"application\"><authority><orgName type=\"national\">KR</orgName></authority><idno type=\"docNumber\" notation=\"docdb\">820000214</idno><classCode scheme=\"kindCode\">A</classCode><date type=\"filingDate\" when=\"1982-01-09\">19820109</date><idno type=\"docNumber\" notation=\"epodoc\">KR19820000214</idno><idno type=\"docNumber\" notation=\"original\">08200214</idno></bibl></listBibl></sourceDesc></fileDesc><profileDesc><textClass><classCode scheme=\"ipc\" type=\"mainClassification\"><ident type=\"classificationSymbol\">  A 43B  13/26   A</ident></classCode><classCode scheme=\"ipc\" type=\"furtherClassification\"><ident type=\"classificationSymbol\">  A 43B   5/00   B</ident></classCode><classCode scheme=\"ipcr\"><ident type=\"classificationSymbol\">A43B   5/06        20060101A I20051008RMEP        </ident></classCode><classCode scheme=\"ipcr\"><ident type=\"classificationSymbol\">A43B  13/18        20060101A I20051008RMEP        </ident></classCode><classCode scheme=\"ipcr\"><ident type=\"classificationSymbol\">A43B  13/22        20060101A I20051008RMEP        </ident></classCode></textClass></profileDesc></teiHeader>\n",
      "CHAUSSURES DE MARCHE\n",
      "  A 43B  13/26   A\n"
     ]
    }
   ],
   "source": [
    "doc = data[1][0]\n",
    "doc = doc[doc.find(\"<teiHeader>\"):doc.find(\"</teiHeader>\")+12]\n",
    "print mySubString\n",
    "root = ET.fromstring(doc)\n",
    "title = root.findall(\"./fileDesc/titleStmt/title\")\n",
    "cpc = root.findall(\".//ident\")\n",
    "print title[0].text\n",
    "print cpc[0].text"
   ]
  },
  {
   "cell_type": "code",
   "execution_count": 31,
   "metadata": {
    "collapsed": false
   },
   "outputs": [
    {
     "name": "stdout",
     "output_type": "stream",
     "text": [
      "<fileDesc><titleStmt><title xml:id=\"_2ab49d8\" type=\"invention\" notation=\"docdba\" xml:lang=\"fr\">CHAUSSURES DE MARCHE</title><funder role=\"applicant\" sortKey=\"1\"><name notation=\"docdb\">BYONG RYOL AHN</name><address type=\"adrResidence\"><country type=\"national\">KR</country></address><name notation=\"docdba\">BYONG RYOL AHN</name></funder><bibl type=\"publication\"><authority><orgName type=\"national\">FR</orgName></authority><idno type=\"docNumber\" notation=\"docdb\">2519520</idno><classCode scheme=\"kindCode\">A1</classCode><date type=\"publicationDate\" when=\"1983-07-18\">19830718</date><idno type=\"docNumber\" notation=\"epodoc\">FR2519520</idno><idno type=\"docId\" notation=\"docdb\">309114555</idno></bibl></titleStmt><publicationStmt><date type=\"publicAvailability\" subtype=\"examinedPrintedWithoutGrant\" when=\"1983-07-18\">19830718</date></publicationStmt><sourceDesc><listBibl type=\"priorityClaims\"><bibl type=\"application\"><authority><orgName type=\"national\">KR</orgName></authority><idno type=\"docNumber\" notation=\"docdb\">820000214</idno><classCode scheme=\"kindCode\">A</classCode><date type=\"filingDate\" when=\"1982-01-09\">19820109</date><idno type=\"docNumber\" notation=\"epodoc\">KR19820000214</idno><idno type=\"docNumber\" notation=\"original\">08200214</idno></bibl></listBibl></sourceDesc></fileDesc><profileDesc><textClass><classCode scheme=\"ipc\" type=\"mainClassification\"><ident type=\"classificationSymbol\">  A 43B  13/26   A</ident></classCode><classCode scheme=\"ipc\" type=\"furtherClassification\"><ident type=\"classificationSymbol\">  A 43B   5/00   B</ident></classCode><classCode scheme=\"ipcr\"><ident type=\"classificationSymbol\">A43B   5/06        20060101A I20051008RMEP        </ident></classCode><classCode scheme=\"ipcr\"><ident type=\"classificationSymbol\">A43B  13/18        20060101A I20051008RMEP        </ident></classCode><classCode scheme=\"ipcr\"><ident type=\"classificationSymbol\">A43B  13/22        20060101A I20051008RMEP        </ident></classCode></textClass></profileDesc></teiHeader><standOff type=\"citations\"><standOff type=\"SEA\"><teiHeader><fileDesc><publicationStmt><authority><orgName type=\"regional\">EP</orgName></authority></publicationStmt></fileDesc>\n"
     ]
    },
    {
     "ename": "NameError",
     "evalue": "name 'title' is not defined",
     "output_type": "error",
     "traceback": [
      "\u001b[1;31m---------------------------------------------------------------------------\u001b[0m",
      "\u001b[1;31mNameError\u001b[0m                                 Traceback (most recent call last)",
      "\u001b[1;32m<ipython-input-31-5532cc9fc376>\u001b[0m in \u001b[0;36m<module>\u001b[1;34m()\u001b[0m\n\u001b[0;32m      6\u001b[0m \u001b[1;31m# cpc = root.findall(\".//ident\")\u001b[0m\u001b[1;33m\u001b[0m\u001b[1;33m\u001b[0m\u001b[0m\n\u001b[0;32m      7\u001b[0m \u001b[1;33m\u001b[0m\u001b[0m\n\u001b[1;32m----> 8\u001b[1;33m \u001b[1;32mprint\u001b[0m \u001b[0mtitle\u001b[0m\u001b[1;33m\u001b[0m\u001b[0m\n\u001b[0m",
      "\u001b[1;31mNameError\u001b[0m: name 'title' is not defined"
     ]
    }
   ],
   "source": [
    "doc = data[1][0]\n",
    "doc = doc.partition('<teiHeader>')[-1].rpartition('</teiHeader>')[0]\n",
    "print doc\n",
    "# root = ET.fromstring(doc)\n",
    "# title = root.findall(\"./titleStmt/title\")\n",
    "# cpc = root.findall(\".//ident\")\n",
    "\n",
    "print title"
   ]
  },
  {
   "cell_type": "code",
   "execution_count": 29,
   "metadata": {
    "collapsed": false
   },
   "outputs": [
    {
     "ename": "ParseError",
     "evalue": "junk after document element: line 1, column 2001",
     "output_type": "error",
     "traceback": [
      "\u001b[1;36m  File \u001b[1;32m\"<string>\"\u001b[1;36m, line \u001b[1;32munknown\u001b[0m\n\u001b[1;31mParseError\u001b[0m\u001b[1;31m:\u001b[0m junk after document element: line 1, column 2001\n"
     ]
    }
   ],
   "source": [
    "\n",
    "\n",
    "\n",
    "root = ET.fromstring(data[1][0])\n",
    "title = root.findall(\"./fileDesc/titleStmt/title\")\n",
    "title2 = root.findall(\"./fileDesc/titleStmt\")\n",
    "cpc = root.findall(\".//ident\")\n",
    "print tag(\"./fileDesc/titleStmt\")\n",
    "ti = title[i].text\n",
    "    \n",
    "# Les classifications\n",
    "main = cpc[0].text\n",
    "further = cpc[1].text"
   ]
  },
  {
   "cell_type": "code",
   "execution_count": null,
   "metadata": {
    "collapsed": true
   },
   "outputs": [],
   "source": [
    "# ti = root.getchildren()[0].getchildren()[0].getchildren()[0]\n",
    "# ti2 = root[0][0][0].text\n",
    "# df=DataFrame(np.zeros(0,dtype=[('ProductID', 'i4'),('ProductName', 'a50')]))\n",
    "# df = df.append({'ProductID':1234, 'ProductName':'Widget'},ignore_index=True)"
   ]
  },
  {
   "cell_type": "code",
   "execution_count": 15,
   "metadata": {
    "collapsed": false
   },
   "outputs": [
    {
     "data": {
      "text/html": [
       "<div>\n",
       "<table border=\"1\" class=\"dataframe\">\n",
       "  <thead>\n",
       "    <tr style=\"text-align: right;\">\n",
       "      <th></th>\n",
       "      <th>DocId</th>\n",
       "      <th>Title</th>\n",
       "    </tr>\n",
       "  </thead>\n",
       "  <tbody>\n",
       "    <tr>\n",
       "      <th>0</th>\n",
       "      <td>5895623</td>\n",
       "      <td>Patent publication information</td>\n",
       "    </tr>\n",
       "    <tr>\n",
       "      <th>1</th>\n",
       "      <td>5895625</td>\n",
       "      <td>Patent publication information</td>\n",
       "    </tr>\n",
       "  </tbody>\n",
       "</table>\n",
       "</div>"
      ],
      "text/plain": [
       "     DocId                           Title\n",
       "0  5895623  Patent publication information\n",
       "1  5895625  Patent publication information"
      ]
     },
     "execution_count": 15,
     "metadata": {},
     "output_type": "execute_result"
    }
   ],
   "source": [
    "data_title"
   ]
  },
  {
   "cell_type": "code",
   "execution_count": 6,
   "metadata": {
    "collapsed": false,
    "scrolled": true
   },
   "outputs": [
    {
     "data": {
      "text/html": [
       "<div>\n",
       "<table border=\"1\" class=\"dataframe\">\n",
       "  <thead>\n",
       "    <tr style=\"text-align: right;\">\n",
       "      <th></th>\n",
       "      <th>DocId</th>\n",
       "      <th>CPC</th>\n",
       "    </tr>\n",
       "  </thead>\n",
       "  <tbody>\n",
       "    <tr>\n",
       "      <th>0</th>\n",
       "      <td>5895623</td>\n",
       "      <td>B 65D  21/00   A</td>\n",
       "    </tr>\n",
       "    <tr>\n",
       "      <th>1</th>\n",
       "      <td>5895623</td>\n",
       "      <td>B 65D  85/00   B</td>\n",
       "    </tr>\n",
       "    <tr>\n",
       "      <th>2</th>\n",
       "      <td>5895623</td>\n",
       "      <td>B65D               20060101S I20051110RMEP    ...</td>\n",
       "    </tr>\n",
       "    <tr>\n",
       "      <th>3</th>\n",
       "      <td>5895623</td>\n",
       "      <td>B65D   6/18        20060101A I20060521RMAT    ...</td>\n",
       "    </tr>\n",
       "    <tr>\n",
       "      <th>4</th>\n",
       "      <td>5895623</td>\n",
       "      <td>B65D  13/00        20060101A I20051110RMEP    ...</td>\n",
       "    </tr>\n",
       "    <tr>\n",
       "      <th>5</th>\n",
       "      <td>5895623</td>\n",
       "      <td>B65D  21/00        20060101A I20051110RMEP    ...</td>\n",
       "    </tr>\n",
       "    <tr>\n",
       "      <th>6</th>\n",
       "      <td>5895623</td>\n",
       "      <td>B65D  85/00        20060101A I20051110RMEP    ...</td>\n",
       "    </tr>\n",
       "    <tr>\n",
       "      <th>7</th>\n",
       "      <td>5895623</td>\n",
       "      <td>B65D  85/34        20060101A I20070602RMAT    ...</td>\n",
       "    </tr>\n",
       "    <tr>\n",
       "      <th>8</th>\n",
       "      <td>5895625</td>\n",
       "      <td>B 65D  21/00   A</td>\n",
       "    </tr>\n",
       "    <tr>\n",
       "      <th>9</th>\n",
       "      <td>5895625</td>\n",
       "      <td>B 65D  85/00   B</td>\n",
       "    </tr>\n",
       "    <tr>\n",
       "      <th>10</th>\n",
       "      <td>5895625</td>\n",
       "      <td>B65D               20060101S I20051110RMEP    ...</td>\n",
       "    </tr>\n",
       "    <tr>\n",
       "      <th>11</th>\n",
       "      <td>5895625</td>\n",
       "      <td>B65D   6/18        20060101A I20060521RMAT    ...</td>\n",
       "    </tr>\n",
       "    <tr>\n",
       "      <th>12</th>\n",
       "      <td>5895625</td>\n",
       "      <td>B65D  13/00        20060101A I20051110RMEP    ...</td>\n",
       "    </tr>\n",
       "    <tr>\n",
       "      <th>13</th>\n",
       "      <td>5895625</td>\n",
       "      <td>B65D  21/00        20060101A I20051110RMEP    ...</td>\n",
       "    </tr>\n",
       "    <tr>\n",
       "      <th>14</th>\n",
       "      <td>5895625</td>\n",
       "      <td>B65D  85/00        20060101A I20051110RMEP    ...</td>\n",
       "    </tr>\n",
       "    <tr>\n",
       "      <th>15</th>\n",
       "      <td>5895625</td>\n",
       "      <td>B65D  85/34        20060101A I20070602RMAT    ...</td>\n",
       "    </tr>\n",
       "  </tbody>\n",
       "</table>\n",
       "</div>"
      ],
      "text/plain": [
       "      DocId                                                CPC\n",
       "0   5895623                                   B 65D  21/00   A\n",
       "1   5895623                                   B 65D  85/00   B\n",
       "2   5895623  B65D               20060101S I20051110RMEP    ...\n",
       "3   5895623  B65D   6/18        20060101A I20060521RMAT    ...\n",
       "4   5895623  B65D  13/00        20060101A I20051110RMEP    ...\n",
       "5   5895623  B65D  21/00        20060101A I20051110RMEP    ...\n",
       "6   5895623  B65D  85/00        20060101A I20051110RMEP    ...\n",
       "7   5895623  B65D  85/34        20060101A I20070602RMAT    ...\n",
       "8   5895625                                   B 65D  21/00   A\n",
       "9   5895625                                   B 65D  85/00   B\n",
       "10  5895625  B65D               20060101S I20051110RMEP    ...\n",
       "11  5895625  B65D   6/18        20060101A I20060521RMAT    ...\n",
       "12  5895625  B65D  13/00        20060101A I20051110RMEP    ...\n",
       "13  5895625  B65D  21/00        20060101A I20051110RMEP    ...\n",
       "14  5895625  B65D  85/00        20060101A I20051110RMEP    ...\n",
       "15  5895625  B65D  85/34        20060101A I20070602RMAT    ..."
      ]
     },
     "execution_count": 6,
     "metadata": {},
     "output_type": "execute_result"
    }
   ],
   "source": [
    "data_cpc"
   ]
  },
  {
   "cell_type": "code",
   "execution_count": 8,
   "metadata": {
    "collapsed": false
   },
   "outputs": [
    {
     "data": {
      "text/html": [
       "<div>\n",
       "<table border=\"1\" class=\"dataframe\">\n",
       "  <thead>\n",
       "    <tr style=\"text-align: right;\">\n",
       "      <th></th>\n",
       "      <th>DocId</th>\n",
       "      <th>Title</th>\n",
       "      <th>CPC</th>\n",
       "    </tr>\n",
       "  </thead>\n",
       "  <tbody>\n",
       "    <tr>\n",
       "      <th>0</th>\n",
       "      <td>5895623</td>\n",
       "      <td>Patent publication information</td>\n",
       "      <td>B 65D  21/00   A</td>\n",
       "    </tr>\n",
       "    <tr>\n",
       "      <th>1</th>\n",
       "      <td>5895623</td>\n",
       "      <td>Patent publication information</td>\n",
       "      <td>B 65D  85/00   B</td>\n",
       "    </tr>\n",
       "    <tr>\n",
       "      <th>2</th>\n",
       "      <td>5895623</td>\n",
       "      <td>Patent publication information</td>\n",
       "      <td>B65D               20060101S I20051110RMEP    ...</td>\n",
       "    </tr>\n",
       "    <tr>\n",
       "      <th>3</th>\n",
       "      <td>5895623</td>\n",
       "      <td>Patent publication information</td>\n",
       "      <td>B65D   6/18        20060101A I20060521RMAT    ...</td>\n",
       "    </tr>\n",
       "    <tr>\n",
       "      <th>4</th>\n",
       "      <td>5895623</td>\n",
       "      <td>Patent publication information</td>\n",
       "      <td>B65D  13/00        20060101A I20051110RMEP    ...</td>\n",
       "    </tr>\n",
       "    <tr>\n",
       "      <th>5</th>\n",
       "      <td>5895623</td>\n",
       "      <td>Patent publication information</td>\n",
       "      <td>B65D  21/00        20060101A I20051110RMEP    ...</td>\n",
       "    </tr>\n",
       "    <tr>\n",
       "      <th>6</th>\n",
       "      <td>5895623</td>\n",
       "      <td>Patent publication information</td>\n",
       "      <td>B65D  85/00        20060101A I20051110RMEP    ...</td>\n",
       "    </tr>\n",
       "    <tr>\n",
       "      <th>7</th>\n",
       "      <td>5895623</td>\n",
       "      <td>Patent publication information</td>\n",
       "      <td>B65D  85/34        20060101A I20070602RMAT    ...</td>\n",
       "    </tr>\n",
       "    <tr>\n",
       "      <th>8</th>\n",
       "      <td>5895625</td>\n",
       "      <td>Patent publication information</td>\n",
       "      <td>B 65D  21/00   A</td>\n",
       "    </tr>\n",
       "    <tr>\n",
       "      <th>9</th>\n",
       "      <td>5895625</td>\n",
       "      <td>Patent publication information</td>\n",
       "      <td>B 65D  85/00   B</td>\n",
       "    </tr>\n",
       "    <tr>\n",
       "      <th>10</th>\n",
       "      <td>5895625</td>\n",
       "      <td>Patent publication information</td>\n",
       "      <td>B65D               20060101S I20051110RMEP    ...</td>\n",
       "    </tr>\n",
       "    <tr>\n",
       "      <th>11</th>\n",
       "      <td>5895625</td>\n",
       "      <td>Patent publication information</td>\n",
       "      <td>B65D   6/18        20060101A I20060521RMAT    ...</td>\n",
       "    </tr>\n",
       "    <tr>\n",
       "      <th>12</th>\n",
       "      <td>5895625</td>\n",
       "      <td>Patent publication information</td>\n",
       "      <td>B65D  13/00        20060101A I20051110RMEP    ...</td>\n",
       "    </tr>\n",
       "    <tr>\n",
       "      <th>13</th>\n",
       "      <td>5895625</td>\n",
       "      <td>Patent publication information</td>\n",
       "      <td>B65D  21/00        20060101A I20051110RMEP    ...</td>\n",
       "    </tr>\n",
       "    <tr>\n",
       "      <th>14</th>\n",
       "      <td>5895625</td>\n",
       "      <td>Patent publication information</td>\n",
       "      <td>B65D  85/00        20060101A I20051110RMEP    ...</td>\n",
       "    </tr>\n",
       "    <tr>\n",
       "      <th>15</th>\n",
       "      <td>5895625</td>\n",
       "      <td>Patent publication information</td>\n",
       "      <td>B65D  85/34        20060101A I20070602RMAT    ...</td>\n",
       "    </tr>\n",
       "  </tbody>\n",
       "</table>\n",
       "</div>"
      ],
      "text/plain": [
       "      DocId                           Title  \\\n",
       "0   5895623  Patent publication information   \n",
       "1   5895623  Patent publication information   \n",
       "2   5895623  Patent publication information   \n",
       "3   5895623  Patent publication information   \n",
       "4   5895623  Patent publication information   \n",
       "5   5895623  Patent publication information   \n",
       "6   5895623  Patent publication information   \n",
       "7   5895623  Patent publication information   \n",
       "8   5895625  Patent publication information   \n",
       "9   5895625  Patent publication information   \n",
       "10  5895625  Patent publication information   \n",
       "11  5895625  Patent publication information   \n",
       "12  5895625  Patent publication information   \n",
       "13  5895625  Patent publication information   \n",
       "14  5895625  Patent publication information   \n",
       "15  5895625  Patent publication information   \n",
       "\n",
       "                                                  CPC  \n",
       "0                                    B 65D  21/00   A  \n",
       "1                                    B 65D  85/00   B  \n",
       "2   B65D               20060101S I20051110RMEP    ...  \n",
       "3   B65D   6/18        20060101A I20060521RMAT    ...  \n",
       "4   B65D  13/00        20060101A I20051110RMEP    ...  \n",
       "5   B65D  21/00        20060101A I20051110RMEP    ...  \n",
       "6   B65D  85/00        20060101A I20051110RMEP    ...  \n",
       "7   B65D  85/34        20060101A I20070602RMAT    ...  \n",
       "8                                    B 65D  21/00   A  \n",
       "9                                    B 65D  85/00   B  \n",
       "10  B65D               20060101S I20051110RMEP    ...  \n",
       "11  B65D   6/18        20060101A I20060521RMAT    ...  \n",
       "12  B65D  13/00        20060101A I20051110RMEP    ...  \n",
       "13  B65D  21/00        20060101A I20051110RMEP    ...  \n",
       "14  B65D  85/00        20060101A I20051110RMEP    ...  \n",
       "15  B65D  85/34        20060101A I20070602RMAT    ...  "
      ]
     },
     "execution_count": 8,
     "metadata": {},
     "output_type": "execute_result"
    }
   ],
   "source": [
    "# Parsing avec classification complète\n",
    "data = data_title.merge(data_cpc, on=\"DocId\")\n",
    "data"
   ]
  },
  {
   "cell_type": "code",
   "execution_count": 16,
   "metadata": {
    "collapsed": false
   },
   "outputs": [
    {
     "data": {
      "text/html": [
       "<div>\n",
       "<table border=\"1\" class=\"dataframe\">\n",
       "  <thead>\n",
       "    <tr style=\"text-align: right;\">\n",
       "      <th></th>\n",
       "      <th>DocId</th>\n",
       "      <th>Main_CPC</th>\n",
       "      <th>Further_CPC</th>\n",
       "    </tr>\n",
       "  </thead>\n",
       "  <tbody>\n",
       "    <tr>\n",
       "      <th>0</th>\n",
       "      <td>5895623</td>\n",
       "      <td>B 65D  21/00   A</td>\n",
       "      <td>B 65D  85/00   B</td>\n",
       "    </tr>\n",
       "    <tr>\n",
       "      <th>1</th>\n",
       "      <td>5895625</td>\n",
       "      <td>B 65D  21/00   A</td>\n",
       "      <td>B 65D  85/00   B</td>\n",
       "    </tr>\n",
       "  </tbody>\n",
       "</table>\n",
       "</div>"
      ],
      "text/plain": [
       "     DocId            Main_CPC         Further_CPC\n",
       "0  5895623    B 65D  21/00   A    B 65D  85/00   B\n",
       "1  5895625    B 65D  21/00   A    B 65D  85/00   B"
      ]
     },
     "execution_count": 16,
     "metadata": {},
     "output_type": "execute_result"
    }
   ],
   "source": [
    "data_cpc2"
   ]
  },
  {
   "cell_type": "code",
   "execution_count": 17,
   "metadata": {
    "collapsed": false
   },
   "outputs": [
    {
     "data": {
      "text/html": [
       "<div>\n",
       "<table border=\"1\" class=\"dataframe\">\n",
       "  <thead>\n",
       "    <tr style=\"text-align: right;\">\n",
       "      <th></th>\n",
       "      <th>DocId</th>\n",
       "      <th>Title</th>\n",
       "      <th>Main_CPC</th>\n",
       "      <th>Further_CPC</th>\n",
       "    </tr>\n",
       "  </thead>\n",
       "  <tbody>\n",
       "    <tr>\n",
       "      <th>0</th>\n",
       "      <td>5895623</td>\n",
       "      <td>Patent publication information</td>\n",
       "      <td>B 65D  21/00   A</td>\n",
       "      <td>B 65D  85/00   B</td>\n",
       "    </tr>\n",
       "    <tr>\n",
       "      <th>1</th>\n",
       "      <td>5895625</td>\n",
       "      <td>Patent publication information</td>\n",
       "      <td>B 65D  21/00   A</td>\n",
       "      <td>B 65D  85/00   B</td>\n",
       "    </tr>\n",
       "  </tbody>\n",
       "</table>\n",
       "</div>"
      ],
      "text/plain": [
       "     DocId                           Title            Main_CPC  \\\n",
       "0  5895623  Patent publication information    B 65D  21/00   A   \n",
       "1  5895625  Patent publication information    B 65D  21/00   A   \n",
       "\n",
       "          Further_CPC  \n",
       "0    B 65D  85/00   B  \n",
       "1    B 65D  85/00   B  "
      ]
     },
     "execution_count": 17,
     "metadata": {},
     "output_type": "execute_result"
    }
   ],
   "source": [
    "# Parsing avec classification réduite \n",
    "data = data_title.merge(data_cpc2, on=\"DocId\")\n",
    "data"
   ]
  },
  {
   "cell_type": "code",
   "execution_count": 12,
   "metadata": {
    "collapsed": false
   },
   "outputs": [
    {
     "ename": "AttributeError",
     "evalue": "'module' object has no attribute 'findtext'",
     "output_type": "error",
     "traceback": [
      "\u001b[1;31m---------------------------------------------------------------------------\u001b[0m",
      "\u001b[1;31mAttributeError\u001b[0m                            Traceback (most recent call last)",
      "\u001b[1;32m<ipython-input-12-de307950dbbf>\u001b[0m in \u001b[0;36m<module>\u001b[1;34m()\u001b[0m\n\u001b[0;32m      1\u001b[0m \u001b[1;31m# path = 'C:\\Users\\k_lemo\\Documents\\Stage\\Data\\KIME\\XML\\importXml1\\Test\\parsingtest2.csv'\u001b[0m\u001b[1;33m\u001b[0m\u001b[1;33m\u001b[0m\u001b[0m\n\u001b[0;32m      2\u001b[0m \u001b[0mxml\u001b[0m \u001b[1;33m=\u001b[0m \u001b[0mobjectify\u001b[0m\u001b[1;33m.\u001b[0m\u001b[0mparse\u001b[0m\u001b[1;33m(\u001b[0m\u001b[0mBytesIO\u001b[0m\u001b[1;33m(\u001b[0m\u001b[0mdata\u001b[0m\u001b[1;33m[\u001b[0m\u001b[1;36m1\u001b[0m\u001b[1;33m]\u001b[0m\u001b[1;33m[\u001b[0m\u001b[1;36m0\u001b[0m\u001b[1;33m]\u001b[0m\u001b[1;33m)\u001b[0m\u001b[1;33m)\u001b[0m\u001b[1;33m\u001b[0m\u001b[0m\n\u001b[1;32m----> 3\u001b[1;33m \u001b[0mtext\u001b[0m \u001b[1;33m=\u001b[0m \u001b[0mET\u001b[0m\u001b[1;33m.\u001b[0m\u001b[0mfindtext\u001b[0m\u001b[1;33m(\u001b[0m\u001b[1;34m'/teiheider/fileDesc/titleStmt/title'\u001b[0m\u001b[1;33m)\u001b[0m\u001b[1;33m\u001b[0m\u001b[0m\n\u001b[0m\u001b[0;32m      4\u001b[0m \u001b[1;32mprint\u001b[0m \u001b[0mtext\u001b[0m\u001b[1;33m\u001b[0m\u001b[0m\n\u001b[0;32m      5\u001b[0m \u001b[0mroot\u001b[0m \u001b[1;33m=\u001b[0m \u001b[0mxml\u001b[0m\u001b[1;33m.\u001b[0m\u001b[0mgetroot\u001b[0m\u001b[1;33m(\u001b[0m\u001b[1;33m)\u001b[0m\u001b[1;33m\u001b[0m\u001b[0m\n",
      "\u001b[1;31mAttributeError\u001b[0m: 'module' object has no attribute 'findtext'"
     ]
    }
   ],
   "source": [
    "# path = 'C:\\Users\\k_lemo\\Documents\\Stage\\Data\\KIME\\XML\\importXml1\\Test\\parsingtest2.csv'\n",
    "xml = objectify.parse(BytesIO(data[1][0]))\n",
    "text = ET.findtext('/teiheider/fileDesc/titleStmt/title')\n",
    "print text \n",
    "root = xml.getroot()\n",
    "print(root.tag)\n",
    "child2 = root.getchildren()[0].getchildren()\n",
    "# print (child2.getchildren())\n",
    "df = pd.DataFrame(columns=('DocId', 'Titre', 'Classification'))"
   ]
  },
  {
   "cell_type": "code",
   "execution_count": 15,
   "metadata": {
    "collapsed": false
   },
   "outputs": [
    {
     "name": "stdout",
     "output_type": "stream",
     "text": [
      "fileDesc\n",
      "a\n",
      "title\n"
     ]
    }
   ],
   "source": [
    "# root's children\n",
    "fileDesc = etree.SubElement(root, \"fileDesc\")\n",
    "profileDesc = etree.SubElement(root, \"profileDesc\")\n",
    "print fileDesc.tag\n",
    "print('a')\n",
    "\n",
    "# Titre \n",
    "titleStmt = etree.SubElement(fileDesc, \"titleStmt\")\n",
    "title = etree.SubElement(titleStmt, \"title\")\n",
    "print title.tag\n",
    "\n",
    "# titre \n",
    "#root"
   ]
  },
  {
   "cell_type": "code",
   "execution_count": 7,
   "metadata": {
    "collapsed": false
   },
   "outputs": [],
   "source": [
    "for i in range(0,1):\n",
    "    obj = root.getchildren()[i].getchildren()\n",
    "    row = dict(zip(['DocId', 'Titre', 'Classification'], [obj[0].text, obj[1].text, obj[2].text]))\n",
    "    row_s = pd.Series(row)\n",
    "    row_s.name = i\n",
    "    df = df.append(row_s)"
   ]
  },
  {
   "cell_type": "code",
   "execution_count": 16,
   "metadata": {
    "collapsed": false
   },
   "outputs": [
    {
     "data": {
      "text/html": [
       "<div>\n",
       "<table border=\"1\" class=\"dataframe\">\n",
       "  <thead>\n",
       "    <tr style=\"text-align: right;\">\n",
       "      <th></th>\n",
       "      <th>DocId</th>\n",
       "      <th>Titre</th>\n",
       "      <th>Classification</th>\n",
       "    </tr>\n",
       "  </thead>\n",
       "  <tbody>\n",
       "    <tr>\n",
       "      <th>0</th>\n",
       "      <td>NaN</td>\n",
       "      <td>NaN</td>\n",
       "      <td>NaN</td>\n",
       "    </tr>\n",
       "  </tbody>\n",
       "</table>\n",
       "</div>"
      ],
      "text/plain": [
       "  DocId Titre Classification\n",
       "0   NaN   NaN            NaN"
      ]
     },
     "execution_count": 16,
     "metadata": {},
     "output_type": "execute_result"
    }
   ],
   "source": [
    "df"
   ]
  },
  {
   "cell_type": "code",
   "execution_count": 21,
   "metadata": {
    "collapsed": false
   },
   "outputs": [
    {
     "name": "stdout",
     "output_type": "stream",
     "text": [
      "\n",
      "None\n"
     ]
    }
   ],
   "source": [
    "path = 'C:\\Users\\k_lemo\\Documents\\Stage\\Data\\KIME\\XML\\importXml1\\Test\\parsingtest2.csv'\n",
    "xml = objectify.parse(open(path))\n",
    "root = xml.getroot()\n",
    "teiHeider = etree.SubElement(root, \"teiHeider\")\n",
    "print teiHeider\n",
    "#teiHeider = etree.Element(\"teiHeider\")\n",
    "fileDesc = etree.SubElement(teiHeider, \"fileDesc\")\n",
    "titleStmt = etree.SubElement(fileDesc, \"titleStmt\")\n",
    "title = etree.SubElement(titleStmt, \"title\")\n",
    "print (title.text)"
   ]
  },
  {
   "cell_type": "code",
   "execution_count": 5,
   "metadata": {
    "collapsed": false
   },
   "outputs": [
    {
     "data": {
      "text/plain": [
       "0    <teiHeader><fileDesc><titleStmt><title>Patent ...\n",
       "Name: 0, dtype: object"
      ]
     },
     "execution_count": 5,
     "metadata": {},
     "output_type": "execute_result"
    }
   ],
   "source": [
    "data[0]\n",
    "# etree.tostring(root)\n",
    "# etree.tostring(root, encoding='UTF-8', xml_declaration=False)"
   ]
  },
  {
   "cell_type": "code",
   "execution_count": null,
   "metadata": {
    "collapsed": true
   },
   "outputs": [],
   "source": [
    "# Script PySpark\n",
    "\n",
    "\n",
    "import xml.etree.ElementTree as ET\n",
    "from pyspark.sql import Row\n",
    "\n",
    "def parse_xml_to_row(xmlString):\n",
    "  root = ET.fromstring(xmlString.encode('utf-8'))\n",
    "   \n",
    "  dict = {\"title\": None, \"redirect_title\": None, \"timestamp\": None, \"last_contributor_username\": None, \"text\": None}\n",
    "  title = root.find(\"title\")\n",
    "  if title is not None:\n",
    "    dict[\"title\"] = title.text\n",
    "  redirect = root.find(\"redirect\")\n",
    "  if redirect is not None:\n",
    "    dict[\"redirect_title\"] = redirect.attrib[\"title\"]\n",
    "  revision = root.find(\"revision\")\n",
    "  if revision is not None:\n",
    "    timestamp = revision.find(\"timestamp\")\n",
    "    dict[\"timestamp\"] = timestamp.text\n",
    "    contributor = revision.find(\"contributor\")\n",
    "    if contributor is not None:\n",
    "      username = contributor.find(\"username\")\n",
    "      if username is not None:\n",
    "        dict[\"last_contributor_username\"] = username.text\n",
    "    text = revision.find(\"text\")\n",
    "    if text is not None and text.text is not None:\n",
    "      dict[\"text\"] = text.text.replace(\"\\\\n\", \" \")\n",
    "  \n",
    "  return Row(**dict)"
   ]
  }
 ],
 "metadata": {
  "kernelspec": {
   "display_name": "Python 2",
   "language": "python",
   "name": "python2"
  },
  "language_info": {
   "codemirror_mode": {
    "name": "ipython",
    "version": 2
   },
   "file_extension": ".py",
   "mimetype": "text/x-python",
   "name": "python",
   "nbconvert_exporter": "python",
   "pygments_lexer": "ipython2",
   "version": "2.7.11"
  }
 },
 "nbformat": 4,
 "nbformat_minor": 0
}
