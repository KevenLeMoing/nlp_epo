{
 "cells": [
  {
   "cell_type": "code",
   "execution_count": 17,
   "metadata": {
    "collapsed": true
   },
   "outputs": [],
   "source": [
    "import csv\n",
    "from csv import *\n",
    "import pandas as pd\n",
    "from pandas import *\n",
    "\n",
    "#Importation de BeautifulSoup\n",
    "import bs4 as bs\n",
    "from bs4 import BeautifulSoup\n",
    "\n",
    "#Importation de re pour traiter les expressions régulières\n",
    "import re\n",
    "\n",
    "# Librairie contenant tous les stop-words\n",
    "import nltk\n",
    "from nltk.corpus import stopwords\n",
    "\n",
    "from lxml import etree\n",
    "import xml.etree.ElementTree as ET\n",
    "from lxml import objectify\n",
    "\n",
    "import xml.parsers.expat as xmlparser\n",
    "\n",
    "import re\n",
    "\n",
    "import io\n",
    "from io import StringIO, BytesIO\n",
    "\n",
    "import time"
   ]
  },
  {
   "cell_type": "code",
   "execution_count": 25,
   "metadata": {
    "collapsed": true
   },
   "outputs": [],
   "source": [
    "data = read_csv('C:\\Users\\k_lemo\\Documents\\Stage\\Data\\KIME\\XML\\importXml2\\Parsed\\Part1_wrong.csv',error_bad_lines=False, iterator=True, chunksize=10000)\n",
    "data = concat(data, ignore_index=True)"
   ]
  },
  {
   "cell_type": "code",
   "execution_count": 26,
   "metadata": {
    "collapsed": false
   },
   "outputs": [
    {
     "data": {
      "text/plain": [
       "'<div type=\"abstract\" xml:id=\"3b4f8669-8da5-4364-ad2e-87d33b23398e\" xml:lang=\"fr\" notation=\"docdba\"><p xml:id=\"_6f487e1\">&lt;P>a. Assemblage \\xc3\\xa0 pignon compos\\xc3\\xa9 d\\'une tige ayant un axe longitudinal et portant une cr\\xc3\\xa9maill\\xc3\\xa8re \\xc3\\xa0 dents h\\xc3\\xa9lico\\xc3\\xafdales'"
      ]
     },
     "execution_count": 26,
     "metadata": {},
     "output_type": "execute_result"
    }
   ],
   "source": [
    "data['Fulltext'][10]"
   ]
  },
  {
   "cell_type": "code",
   "execution_count": 24,
   "metadata": {
    "collapsed": false
   },
   "outputs": [
    {
     "data": {
      "text/plain": [
       "[' div type  abstract  xml id   b f      da       ad e   d  b     e  xml lang  fr  notation  docdba   p xml id    f   e    lt P a  Assemblage    pignon compos   d une tige ayant un axe longitudinal et portant une cr  maill  re    dents h  lico  dales']"
      ]
     },
     "execution_count": 24,
     "metadata": {},
     "output_type": "execute_result"
    }
   ],
   "source": [
    "data['Fulltext'][10]"
   ]
  },
  {
   "cell_type": "code",
   "execution_count": 20,
   "metadata": {
    "collapsed": false
   },
   "outputs": [
    {
     "ename": "ParseError",
     "evalue": "no element found: line 1, column 241",
     "output_type": "error",
     "traceback": [
      "\u001b[1;36m  File \u001b[1;32m\"<string>\"\u001b[1;36m, line \u001b[1;32munknown\u001b[0m\n\u001b[1;31mParseError\u001b[0m\u001b[1;31m:\u001b[0m no element found: line 1, column 241\n"
     ]
    }
   ],
   "source": [
    "root = ET.fromstring(data['Fulltext'][10])\n",
    "Type = root.get('type')\n",
    "# text = root[0].text "
   ]
  },
  {
   "cell_type": "code",
   "execution_count": 27,
   "metadata": {
    "collapsed": false
   },
   "outputs": [
    {
     "name": "stderr",
     "output_type": "stream",
     "text": [
      "C:\\Users\\k_lemo\\AppData\\Local\\Continuum\\Anaconda2\\lib\\site-packages\\bs4\\__init__.py:166: UserWarning: No parser was explicitly specified, so I'm using the best available HTML parser for this system (\"lxml\"). This usually isn't a problem, but if you run this code on another system, or in a different virtual environment, it may use a different parser and behave differently.\n",
      "\n",
      "To get rid of this warning, change this:\n",
      "\n",
      " BeautifulSoup([your markup])\n",
      "\n",
      "to this:\n",
      "\n",
      " BeautifulSoup([your markup], \"lxml\")\n",
      "\n",
      "  markup_type=markup_type))\n"
     ]
    },
    {
     "data": {
      "text/plain": [
       "u\"<P>a. Assemblage \\xe0 pignon compos\\xe9 d'une tige ayant un axe longitudinal et portant une cr\\xe9maill\\xe8re \\xe0 dents h\\xe9lico\\xefdales\""
      ]
     },
     "execution_count": 27,
     "metadata": {},
     "output_type": "execute_result"
    }
   ],
   "source": [
    "data['Fulltext'][10] = bs.BeautifulSoup(data['Fulltext'][10]).get_text()\n",
    "data['Fulltext'][10]"
   ]
  },
  {
   "cell_type": "code",
   "execution_count": 21,
   "metadata": {
    "collapsed": false
   },
   "outputs": [
    {
     "name": "stdout",
     "output_type": "stream",
     "text": [
      "<div type=abstract xml:id=9dced8bd-4432-49f6-a889-4486d9b6bad5 xml:lang=fr notation=docdba><p xml:id=_533652c>&lt;P>LE SECTEUR TECHNIQUE DE L'INVENTION EST CELUI DES MUNITIONS DE PETIT OU MOYEN CALIBRE ET EN PARTICULIER DES MUNITIONS DE CHASSE COMPORTANT UNE BALLE SOUS CALIBREE MUNIE D'UN EMPENNAGE.&lt;/P>&lt;P>ELLE EST CARACTERISEE EN CE QU'UNE ARCHITECTURE PARTICULIERE DE LA BALLE PERMET D'ASSOCIER UNE PRECISION ET PORTEE REDUITE TOUT EN ASSURANT UNE GRANDE EFFICACITE TERMINALE.&lt;/P>&lt;P>APPLICATION AUX MUNITIONS DE CHASSE A STABILISATION PAR EMPENNAGE.&lt;/P></p></div>\n"
     ]
    }
   ],
   "source": [
    "print(\"<div type=\"\"abstract\"\" xml:id=\"\"9dced8bd-4432-49f6-a889-4486d9b6bad5\"\" xml:lang=\"\"fr\"\" notation=\"\"docdba\"\"><p xml:id=\"\"_533652c\"\">&lt;P>LE SECTEUR TECHNIQUE DE L'INVENTION EST CELUI DES MUNITIONS DE PETIT OU MOYEN CALIBRE ET EN PARTICULIER DES MUNITIONS DE CHASSE COMPORTANT UNE BALLE SOUS CALIBREE MUNIE D'UN EMPENNAGE.&lt;/P>&lt;P>ELLE EST CARACTERISEE EN CE QU'UNE ARCHITECTURE PARTICULIERE DE LA BALLE PERMET D'ASSOCIER UNE PRECISION ET PORTEE REDUITE TOUT EN ASSURANT UNE GRANDE EFFICACITE TERMINALE.&lt;/P>&lt;P>APPLICATION AUX MUNITIONS DE CHASSE A STABILISATION PAR EMPENNAGE.&lt;/P></p></div>\")"
   ]
  },
  {
   "cell_type": "code",
   "execution_count": 23,
   "metadata": {
    "collapsed": true
   },
   "outputs": [],
   "source": [
    "clean = [re.sub(\"[^a-zA-Z\\xc4\\xe4\\xc9\\xe9\\xd6\\xf6\\xdc\\xfc\\xdf\\xc0\\xe0\\xc2\\xe2\\xc6\\xe6\\xc7\\xe7\\xc8\\xe8\\xca\\xea\\xcb\\xeb\\xce\\xee\\xcf\\xef\\x8c\\x9c\\xd9\\xf9\\xdb\\xfb]\",\" \",data['Fulltext'][10])]\n",
    "data['Fulltext'][10] = clean"
   ]
  },
  {
   "cell_type": "code",
   "execution_count": null,
   "metadata": {
    "collapsed": true
   },
   "outputs": [],
   "source": []
  }
 ],
 "metadata": {
  "kernelspec": {
   "display_name": "Python 2",
   "language": "python",
   "name": "python2"
  },
  "language_info": {
   "codemirror_mode": {
    "name": "ipython",
    "version": 2
   },
   "file_extension": ".py",
   "mimetype": "text/x-python",
   "name": "python",
   "nbconvert_exporter": "python",
   "pygments_lexer": "ipython2",
   "version": "2.7.11"
  }
 },
 "nbformat": 4,
 "nbformat_minor": 0
}
