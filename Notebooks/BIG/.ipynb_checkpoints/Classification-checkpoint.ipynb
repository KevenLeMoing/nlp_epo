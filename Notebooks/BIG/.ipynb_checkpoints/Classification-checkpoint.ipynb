{
 "cells": [
  {
   "cell_type": "code",
   "execution_count": null,
   "metadata": {
    "collapsed": true
   },
   "outputs": [],
   "source": [
    "#Librairie pour l'analyse du texte\n",
    "\n",
    "import pandas as pd\n",
    "import numpy as np\n",
    "import time\n",
    "\n",
    "import sklearn\n",
    "from sklearn import *\n",
    "from sklearn.feature_extraction.text import TfidfVectorizer\n",
    "# from sklearn import (manifold, datasets, decomposition, ensemble, discriminant_analysis, random_projection)\n",
    "from sklearn.manifold import TSNE\n",
    "from sklearn.decomposition import PCA\n",
    "from sklearn.pipeline import Pipeline\n",
    "from sklearn.ensemble import RandomForestClassifier\n",
    "# from sklearn import metrics\n",
    "# from sklearn import linear_model\n",
    "from sklearn.decomposition import TruncatedSVD\n",
    "\n",
    "import matplotlib.pyplot as plt\n",
    "import matplotlib\n",
    "from matplotlib import *"
   ]
  },
  {
   "cell_type": "code",
   "execution_count": null,
   "metadata": {
    "collapsed": true
   },
   "outputs": [],
   "source": [
    "# ---------------------------------- 1er choix\n",
    "\n",
    "# data = pd.read_csv('\\Users\\k_lemo\\Documents\\Stage\\Data_EPO\\data2_0.csv')\n",
    "\n",
    "# ---------------------------------- 2ième choix\n",
    "\n",
    "data = pd.read_csv('\\Users\\k_lemo\\Documents\\Stage\\Data_EPO\\data2_1.csv')\n",
    "data = data.drop(['cpc_2'], axis=1)"
   ]
  },
  {
   "cell_type": "code",
   "execution_count": null,
   "metadata": {
    "collapsed": true
   },
   "outputs": [],
   "source": [
    "# Suppression des STOP WORDS :\n",
    "# On télécharge l'ensemble des stopwords --> http://www.nltk.org/nltk_data/\n",
    "# On rassemble \"à la main\" l'ensemble des stopwords de tous les languages téléchargés (C:\\Users\\k_lemo\\Documents\\Stage\\stopwords\\All.txt)\n",
    "\n",
    "stopwords = pd.read_csv(\"\\Users\\k_lemo\\Documents\\Stage\\stopwords\\All.txt\", header=None, sep=r\"\\s+\") \n",
    "stopWords = [word for word in set(stopwords[0])]\n",
    "stopwords\n",
    "\n",
    "\n",
    "# Piste d'optimisation : les stopwords avec des caractères spéciaux ne peuvent pas être détectés lorsqu'il sont sous forme de dataframe\n",
    "# --> Appliquer le filtre sur le fichier en dur mais cela ralentira considérablement le process"
   ]
  },
  {
   "cell_type": "code",
   "execution_count": null,
   "metadata": {
    "collapsed": true
   },
   "outputs": [],
   "source": [
    "#On Vectorise le champs full_text à l'aide de l'algorithme TF-IDF\n",
    "\n",
    "start_time = time.time()\n",
    "tfIdf = TfidfVectorizer(analyzer = \"word\", stop_words=stopWords,max_features = 100).fit_transform(data['full_text'])\n",
    "print(\"--- %s seconds ---\" % (time.time() - start_time))\n",
    "\n",
    "tfIdf"
   ]
  },
  {
   "cell_type": "code",
   "execution_count": null,
   "metadata": {
    "collapsed": true
   },
   "outputs": [],
   "source": [
    "tfIdf2=tfIdf.toarray()"
   ]
  },
  {
   "cell_type": "code",
   "execution_count": null,
   "metadata": {
    "collapsed": true
   },
   "outputs": [],
   "source": [
    "# Actuellement constituée de vecteurs de dimension 100, la représentation de TfIdf est impossible sans une projection en espace bidimensionnel \n",
    "\n",
    "start_time = time.time()\n",
    "tsne = TSNE(n_components=2, init='pca',random_state=0)\n",
    "X1 = tsne.fit_transform(tfIdf.toarray())\n",
    "print(\"--- %s seconds ---\" % (time.time() - start_time))\n",
    "\n",
    "for i in range(len(data.index)):\n",
    "    #plt.plot(clusters[0][i][0], clusters[0][i][1],'.',color=plt.cm.Set1(clusters[1][i] / float(centers)))\n",
    "    plt.plot(X1[:,0],X1[:,1],'.',color=plt.cm.Set1(data[\"CPC1_corresp\"][i] / float(len(data[\"CPC1_corresp\"]))))\n",
    "\n",
    "#X1\n",
    "#X1[:,0]"
   ]
  },
  {
   "cell_type": "code",
   "execution_count": null,
   "metadata": {
    "collapsed": true
   },
   "outputs": [],
   "source": [
    "plt.figure(figsize=(20, 20))\n",
    "for i in range(len(data.index)):\n",
    "    #plt.plot(clusters[0][i][0], clusters[0][i][1],'.',color=plt.cm.Set1(clusters[1][i] / float(centers)))\n",
    "    plt.plot(X1[i][0],X1[i][1],'.',color=plt.cm.Set1(data[\"CPC1_corresp\"][i] / float(len(set(data[\"CPC1_corresp\"])))))"
   ]
  },
  {
   "cell_type": "code",
   "execution_count": null,
   "metadata": {
    "collapsed": true
   },
   "outputs": [],
   "source": [
    "X_reduced = TruncatedSVD(n_components=50, random_state=0).fit_transform(tfIdf)\n",
    "X_embedded = TSNE(n_components=2, perplexity=40, verbose=2).fit_transform(X_reduced)"
   ]
  },
  {
   "cell_type": "code",
   "execution_count": null,
   "metadata": {
    "collapsed": true
   },
   "outputs": [],
   "source": [
    "plt.figure(figsize=(10, 10))\n",
    "plt.setp(plt.axes(frameon=False), xticks=(), yticks=())\n",
    "plt.subplots_adjust(left=0.0, bottom=0.0, right=1.0, top=0.9, wspace=0.0, hspace=0.0)\n",
    "for i in range(len(data.index)):\n",
    "    plt.plot(X_embedded[i][0],X_embedded[i][1],'.',color=plt.cm.Set1(data[\"CPC1_corresp\"][i] / float(len(set(data[\"CPC1_corresp\"])))))"
   ]
  }
 ],
 "metadata": {
  "kernelspec": {
   "display_name": "Python 2",
   "language": "python",
   "name": "python2"
  },
  "language_info": {
   "codemirror_mode": {
    "name": "ipython",
    "version": 2
   },
   "file_extension": ".py",
   "mimetype": "text/x-python",
   "name": "python",
   "nbconvert_exporter": "python",
   "pygments_lexer": "ipython2",
   "version": "2.7.11"
  }
 },
 "nbformat": 4,
 "nbformat_minor": 0
}
