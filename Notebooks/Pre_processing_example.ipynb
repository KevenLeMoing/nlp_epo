{
 "cells": [
  {
   "cell_type": "code",
   "execution_count": 71,
   "metadata": {
    "collapsed": false
   },
   "outputs": [],
   "source": [
    "import pandas as pd\n",
    "\n",
    "#Importation de BeautifulSoup\n",
    "import bs4 as bs\n",
    "\n",
    "#Importation de re pour traiter les expressions régulières\n",
    "import re\n",
    "\n",
    "# Librairie contenant tous les stop-words\n",
    "import nltk\n",
    "from nltk.corpus import stopwords\n",
    "\n",
    "#Librairie pour l'analyse du texte\n",
    "import sklearn\n",
    "from sklearn.feature_extraction.text import TfidfVectorizer"
   ]
  },
  {
   "cell_type": "code",
   "execution_count": 72,
   "metadata": {
    "collapsed": false
   },
   "outputs": [],
   "source": [
    "data = pd.read_csv('\\Users\\k_lemo\\Documents\\Stage\\Data_EPO\\data.csv')"
   ]
  },
  {
   "cell_type": "code",
   "execution_count": 53,
   "metadata": {
    "collapsed": false
   },
   "outputs": [
    {
     "data": {
      "text/plain": [
       "' <p> </p><p>   Die Erfindung ist dadurch gekennzeichnet, dass ein in der Wand angebrachtes Pissoir  </p><p>   -nach aussen aufklappbar ist </p><p>   -und die Gr\\xc3\\xb6sse einer durchschnittlichen Wandfliese entspricht </p><p> allenfalls nicht gr\\xc3\\xb6sser als ein gew\\xc3\\xb6hnliches Pissoir ist. </p> <p></p><p>Stand der Technik wie folgt:<br /> Das Pissoir ist direkt in seiner ganzen Funktion in der Wand angebracht. Erst durch Herausklappen des Pissoirs kann es Urin aufnehmen. Das Herausklappen funktioniert wie ein aufklappbarer Aschenbecher. Wird das Pissoir geschlossen, l\\xc3\\xb6st eine Mechanik die Wassersp\\xc3\\xbclung aus. Die Gr\\xc3\\xb6sse \\xc3\\xbcberschreitet die Normalgr\\xc3\\xb6sse der Pissoirs nicht. Im Gegenteil sollte es so klein wie eine durchschnittliche Wandfliese sein. Die verwendeten Materialien sind nicht festgelegt. Das Pissoir kann je nach Ausf\\xc3\\xbchrung nach oben und unten verschoben werden. Die Vorteile ist die Hygiene und die Platzersparnis. Bez\\xc3\\xbcglich der Zeichnung: a.) ausgeklappt, b.) zugeklappt.</p> Aufklappbares Urinal'"
      ]
     },
     "execution_count": 53,
     "metadata": {},
     "output_type": "execute_result"
    }
   ],
   "source": [
    "data['full_text'][0]"
   ]
  },
  {
   "cell_type": "code",
   "execution_count": 74,
   "metadata": {
    "collapsed": false
   },
   "outputs": [],
   "source": [
    "#On retire les balises HTML\n",
    "example1 = bs.BeautifulSoup(data[\"full_text\"][0]).get_text()"
   ]
  },
  {
   "cell_type": "code",
   "execution_count": 75,
   "metadata": {
    "collapsed": false
   },
   "outputs": [
    {
     "data": {
      "text/plain": [
       "u'    Die Erfindung ist dadurch gekennzeichnet, dass ein in der Wand angebrachtes Pissoir     -nach aussen aufklappbar ist    -und die Gr\\xf6sse einer durchschnittlichen Wandfliese entspricht  allenfalls nicht gr\\xf6sser als ein gew\\xf6hnliches Pissoir ist.  Stand der Technik wie folgt: Das Pissoir ist direkt in seiner ganzen Funktion in der Wand angebracht. Erst durch Herausklappen des Pissoirs kann es Urin aufnehmen. Das Herausklappen funktioniert wie ein aufklappbarer Aschenbecher. Wird das Pissoir geschlossen, l\\xf6st eine Mechanik die Wassersp\\xfclung aus. Die Gr\\xf6sse \\xfcberschreitet die Normalgr\\xf6sse der Pissoirs nicht. Im Gegenteil sollte es so klein wie eine durchschnittliche Wandfliese sein. Die verwendeten Materialien sind nicht festgelegt. Das Pissoir kann je nach Ausf\\xfchrung nach oben und unten verschoben werden. Die Vorteile ist die Hygiene und die Platzersparnis. Bez\\xfcglich der Zeichnung: a.) ausgeklappt, b.) zugeklappt. Aufklappbares Urinal'"
      ]
     },
     "execution_count": 75,
     "metadata": {},
     "output_type": "execute_result"
    }
   ],
   "source": [
    "example1"
   ]
  },
  {
   "cell_type": "code",
   "execution_count": 56,
   "metadata": {
    "collapsed": false
   },
   "outputs": [],
   "source": [
    "example2 = re.sub(\"[^a-zA-Z\\xc4\\xe4\\xc9\\xe9\\xd6\\xf6\\xdc\\xfc\\xdf\\xc0\\xe0\\xc2\\xe2\\xc6\\xe6\\xc7\\xe7\\xc8\\xe8\\xca\\xea\\xcb\\xeb\\xce\\xee\\xcf\\xef\\x8c\\x9c\\xd9\\xf9\\xdb\\xfb]\",\" \",example1)"
   ]
  },
  {
   "cell_type": "code",
   "execution_count": 57,
   "metadata": {
    "collapsed": true
   },
   "outputs": [],
   "source": [
    "example3 = example2.lower()"
   ]
  },
  {
   "cell_type": "code",
   "execution_count": 58,
   "metadata": {
    "collapsed": false
   },
   "outputs": [
    {
     "data": {
      "text/plain": [
       "u'    die erfindung ist dadurch gekennzeichnet  dass ein in der wand angebrachtes pissoir      nach aussen aufklappbar ist     und die gr\\xf6sse einer durchschnittlichen wandfliese entspricht  allenfalls nicht gr\\xf6sser als ein gew\\xf6hnliches pissoir ist   stand der technik wie folgt  das pissoir ist direkt in seiner ganzen funktion in der wand angebracht  erst durch herausklappen des pissoirs kann es urin aufnehmen  das herausklappen funktioniert wie ein aufklappbarer aschenbecher  wird das pissoir geschlossen  l\\xf6st eine mechanik die wassersp\\xfclung aus  die gr\\xf6sse \\xfcberschreitet die normalgr\\xf6sse der pissoirs nicht  im gegenteil sollte es so klein wie eine durchschnittliche wandfliese sein  die verwendeten materialien sind nicht festgelegt  das pissoir kann je nach ausf\\xfchrung nach oben und unten verschoben werden  die vorteile ist die hygiene und die platzersparnis  bez\\xfcglich der zeichnung  a   ausgeklappt  b   zugeklappt  aufklappbares urinal'"
      ]
     },
     "execution_count": 58,
     "metadata": {},
     "output_type": "execute_result"
    }
   ],
   "source": [
    "example3"
   ]
  },
  {
   "cell_type": "code",
   "execution_count": 59,
   "metadata": {
    "collapsed": true
   },
   "outputs": [],
   "source": [
    "example4 = example3.split()"
   ]
  },
  {
   "cell_type": "code",
   "execution_count": 60,
   "metadata": {
    "collapsed": false
   },
   "outputs": [
    {
     "data": {
      "text/plain": [
       "[u'die',\n",
       " u'erfindung',\n",
       " u'ist',\n",
       " u'dadurch',\n",
       " u'gekennzeichnet',\n",
       " u'dass',\n",
       " u'ein',\n",
       " u'in',\n",
       " u'der',\n",
       " u'wand',\n",
       " u'angebrachtes',\n",
       " u'pissoir',\n",
       " u'nach',\n",
       " u'aussen',\n",
       " u'aufklappbar',\n",
       " u'ist',\n",
       " u'und',\n",
       " u'die',\n",
       " u'gr\\xf6sse',\n",
       " u'einer',\n",
       " u'durchschnittlichen',\n",
       " u'wandfliese',\n",
       " u'entspricht',\n",
       " u'allenfalls',\n",
       " u'nicht',\n",
       " u'gr\\xf6sser',\n",
       " u'als',\n",
       " u'ein',\n",
       " u'gew\\xf6hnliches',\n",
       " u'pissoir',\n",
       " u'ist',\n",
       " u'stand',\n",
       " u'der',\n",
       " u'technik',\n",
       " u'wie',\n",
       " u'folgt',\n",
       " u'das',\n",
       " u'pissoir',\n",
       " u'ist',\n",
       " u'direkt',\n",
       " u'in',\n",
       " u'seiner',\n",
       " u'ganzen',\n",
       " u'funktion',\n",
       " u'in',\n",
       " u'der',\n",
       " u'wand',\n",
       " u'angebracht',\n",
       " u'erst',\n",
       " u'durch',\n",
       " u'herausklappen',\n",
       " u'des',\n",
       " u'pissoirs',\n",
       " u'kann',\n",
       " u'es',\n",
       " u'urin',\n",
       " u'aufnehmen',\n",
       " u'das',\n",
       " u'herausklappen',\n",
       " u'funktioniert',\n",
       " u'wie',\n",
       " u'ein',\n",
       " u'aufklappbarer',\n",
       " u'aschenbecher',\n",
       " u'wird',\n",
       " u'das',\n",
       " u'pissoir',\n",
       " u'geschlossen',\n",
       " u'l\\xf6st',\n",
       " u'eine',\n",
       " u'mechanik',\n",
       " u'die',\n",
       " u'wassersp\\xfclung',\n",
       " u'aus',\n",
       " u'die',\n",
       " u'gr\\xf6sse',\n",
       " u'\\xfcberschreitet',\n",
       " u'die',\n",
       " u'normalgr\\xf6sse',\n",
       " u'der',\n",
       " u'pissoirs',\n",
       " u'nicht',\n",
       " u'im',\n",
       " u'gegenteil',\n",
       " u'sollte',\n",
       " u'es',\n",
       " u'so',\n",
       " u'klein',\n",
       " u'wie',\n",
       " u'eine',\n",
       " u'durchschnittliche',\n",
       " u'wandfliese',\n",
       " u'sein',\n",
       " u'die',\n",
       " u'verwendeten',\n",
       " u'materialien',\n",
       " u'sind',\n",
       " u'nicht',\n",
       " u'festgelegt',\n",
       " u'das',\n",
       " u'pissoir',\n",
       " u'kann',\n",
       " u'je',\n",
       " u'nach',\n",
       " u'ausf\\xfchrung',\n",
       " u'nach',\n",
       " u'oben',\n",
       " u'und',\n",
       " u'unten',\n",
       " u'verschoben',\n",
       " u'werden',\n",
       " u'die',\n",
       " u'vorteile',\n",
       " u'ist',\n",
       " u'die',\n",
       " u'hygiene',\n",
       " u'und',\n",
       " u'die',\n",
       " u'platzersparnis',\n",
       " u'bez\\xfcglich',\n",
       " u'der',\n",
       " u'zeichnung',\n",
       " u'a',\n",
       " u'ausgeklappt',\n",
       " u'b',\n",
       " u'zugeklappt',\n",
       " u'aufklappbares',\n",
       " u'urinal']"
      ]
     },
     "execution_count": 60,
     "metadata": {},
     "output_type": "execute_result"
    }
   ],
   "source": [
    "example4"
   ]
  },
  {
   "cell_type": "code",
   "execution_count": 61,
   "metadata": {
    "collapsed": false
   },
   "outputs": [
    {
     "data": {
      "text/html": [
       "<div>\n",
       "<table border=\"1\" class=\"dataframe\">\n",
       "  <thead>\n",
       "    <tr style=\"text-align: right;\">\n",
       "      <th></th>\n",
       "      <th>0</th>\n",
       "    </tr>\n",
       "  </thead>\n",
       "  <tbody>\n",
       "    <tr>\n",
       "      <th>0</th>\n",
       "      <td>og</td>\n",
       "    </tr>\n",
       "    <tr>\n",
       "      <th>1</th>\n",
       "      <td>i</td>\n",
       "    </tr>\n",
       "    <tr>\n",
       "      <th>2</th>\n",
       "      <td>jeg</td>\n",
       "    </tr>\n",
       "    <tr>\n",
       "      <th>3</th>\n",
       "      <td>det</td>\n",
       "    </tr>\n",
       "    <tr>\n",
       "      <th>4</th>\n",
       "      <td>at</td>\n",
       "    </tr>\n",
       "    <tr>\n",
       "      <th>5</th>\n",
       "      <td>en</td>\n",
       "    </tr>\n",
       "    <tr>\n",
       "      <th>6</th>\n",
       "      <td>den</td>\n",
       "    </tr>\n",
       "    <tr>\n",
       "      <th>7</th>\n",
       "      <td>til</td>\n",
       "    </tr>\n",
       "    <tr>\n",
       "      <th>8</th>\n",
       "      <td>er</td>\n",
       "    </tr>\n",
       "    <tr>\n",
       "      <th>9</th>\n",
       "      <td>som</td>\n",
       "    </tr>\n",
       "    <tr>\n",
       "      <th>10</th>\n",
       "      <td>på</td>\n",
       "    </tr>\n",
       "    <tr>\n",
       "      <th>11</th>\n",
       "      <td>de</td>\n",
       "    </tr>\n",
       "    <tr>\n",
       "      <th>12</th>\n",
       "      <td>med</td>\n",
       "    </tr>\n",
       "    <tr>\n",
       "      <th>13</th>\n",
       "      <td>han</td>\n",
       "    </tr>\n",
       "    <tr>\n",
       "      <th>14</th>\n",
       "      <td>af</td>\n",
       "    </tr>\n",
       "    <tr>\n",
       "      <th>15</th>\n",
       "      <td>for</td>\n",
       "    </tr>\n",
       "    <tr>\n",
       "      <th>16</th>\n",
       "      <td>ikke</td>\n",
       "    </tr>\n",
       "    <tr>\n",
       "      <th>17</th>\n",
       "      <td>der</td>\n",
       "    </tr>\n",
       "    <tr>\n",
       "      <th>18</th>\n",
       "      <td>var</td>\n",
       "    </tr>\n",
       "    <tr>\n",
       "      <th>19</th>\n",
       "      <td>mig</td>\n",
       "    </tr>\n",
       "    <tr>\n",
       "      <th>20</th>\n",
       "      <td>sig</td>\n",
       "    </tr>\n",
       "    <tr>\n",
       "      <th>21</th>\n",
       "      <td>men</td>\n",
       "    </tr>\n",
       "    <tr>\n",
       "      <th>22</th>\n",
       "      <td>et</td>\n",
       "    </tr>\n",
       "    <tr>\n",
       "      <th>23</th>\n",
       "      <td>har</td>\n",
       "    </tr>\n",
       "    <tr>\n",
       "      <th>24</th>\n",
       "      <td>om</td>\n",
       "    </tr>\n",
       "    <tr>\n",
       "      <th>25</th>\n",
       "      <td>vi</td>\n",
       "    </tr>\n",
       "    <tr>\n",
       "      <th>26</th>\n",
       "      <td>min</td>\n",
       "    </tr>\n",
       "    <tr>\n",
       "      <th>27</th>\n",
       "      <td>havde</td>\n",
       "    </tr>\n",
       "    <tr>\n",
       "      <th>28</th>\n",
       "      <td>ham</td>\n",
       "    </tr>\n",
       "    <tr>\n",
       "      <th>29</th>\n",
       "      <td>hun</td>\n",
       "    </tr>\n",
       "    <tr>\n",
       "      <th>...</th>\n",
       "      <td>...</td>\n",
       "    </tr>\n",
       "    <tr>\n",
       "      <th>2752</th>\n",
       "      <td>hepsi</td>\n",
       "    </tr>\n",
       "    <tr>\n",
       "      <th>2753</th>\n",
       "      <td>her</td>\n",
       "    </tr>\n",
       "    <tr>\n",
       "      <th>2754</th>\n",
       "      <td>hiç</td>\n",
       "    </tr>\n",
       "    <tr>\n",
       "      <th>2755</th>\n",
       "      <td>için</td>\n",
       "    </tr>\n",
       "    <tr>\n",
       "      <th>2756</th>\n",
       "      <td>ile</td>\n",
       "    </tr>\n",
       "    <tr>\n",
       "      <th>2757</th>\n",
       "      <td>ise</td>\n",
       "    </tr>\n",
       "    <tr>\n",
       "      <th>2758</th>\n",
       "      <td>kez</td>\n",
       "    </tr>\n",
       "    <tr>\n",
       "      <th>2759</th>\n",
       "      <td>ki</td>\n",
       "    </tr>\n",
       "    <tr>\n",
       "      <th>2760</th>\n",
       "      <td>kim</td>\n",
       "    </tr>\n",
       "    <tr>\n",
       "      <th>2761</th>\n",
       "      <td>mı</td>\n",
       "    </tr>\n",
       "    <tr>\n",
       "      <th>2762</th>\n",
       "      <td>mu</td>\n",
       "    </tr>\n",
       "    <tr>\n",
       "      <th>2763</th>\n",
       "      <td>mü</td>\n",
       "    </tr>\n",
       "    <tr>\n",
       "      <th>2764</th>\n",
       "      <td>nasıl</td>\n",
       "    </tr>\n",
       "    <tr>\n",
       "      <th>2765</th>\n",
       "      <td>ne</td>\n",
       "    </tr>\n",
       "    <tr>\n",
       "      <th>2766</th>\n",
       "      <td>neden</td>\n",
       "    </tr>\n",
       "    <tr>\n",
       "      <th>2767</th>\n",
       "      <td>nerde</td>\n",
       "    </tr>\n",
       "    <tr>\n",
       "      <th>2768</th>\n",
       "      <td>nerede</td>\n",
       "    </tr>\n",
       "    <tr>\n",
       "      <th>2769</th>\n",
       "      <td>nereye</td>\n",
       "    </tr>\n",
       "    <tr>\n",
       "      <th>2770</th>\n",
       "      <td>niçin</td>\n",
       "    </tr>\n",
       "    <tr>\n",
       "      <th>2771</th>\n",
       "      <td>niye</td>\n",
       "    </tr>\n",
       "    <tr>\n",
       "      <th>2772</th>\n",
       "      <td>o</td>\n",
       "    </tr>\n",
       "    <tr>\n",
       "      <th>2773</th>\n",
       "      <td>sanki</td>\n",
       "    </tr>\n",
       "    <tr>\n",
       "      <th>2774</th>\n",
       "      <td>şey</td>\n",
       "    </tr>\n",
       "    <tr>\n",
       "      <th>2775</th>\n",
       "      <td>siz</td>\n",
       "    </tr>\n",
       "    <tr>\n",
       "      <th>2776</th>\n",
       "      <td>şu</td>\n",
       "    </tr>\n",
       "    <tr>\n",
       "      <th>2777</th>\n",
       "      <td>tüm</td>\n",
       "    </tr>\n",
       "    <tr>\n",
       "      <th>2778</th>\n",
       "      <td>ve</td>\n",
       "    </tr>\n",
       "    <tr>\n",
       "      <th>2779</th>\n",
       "      <td>veya</td>\n",
       "    </tr>\n",
       "    <tr>\n",
       "      <th>2780</th>\n",
       "      <td>ya</td>\n",
       "    </tr>\n",
       "    <tr>\n",
       "      <th>2781</th>\n",
       "      <td>yani</td>\n",
       "    </tr>\n",
       "  </tbody>\n",
       "</table>\n",
       "<p>2782 rows × 1 columns</p>\n",
       "</div>"
      ],
      "text/plain": [
       "           0\n",
       "0         og\n",
       "1          i\n",
       "2        jeg\n",
       "3        det\n",
       "4         at\n",
       "5         en\n",
       "6        den\n",
       "7        til\n",
       "8         er\n",
       "9        som\n",
       "10        på\n",
       "11        de\n",
       "12       med\n",
       "13       han\n",
       "14        af\n",
       "15       for\n",
       "16      ikke\n",
       "17       der\n",
       "18       var\n",
       "19       mig\n",
       "20       sig\n",
       "21       men\n",
       "22        et\n",
       "23       har\n",
       "24        om\n",
       "25        vi\n",
       "26       min\n",
       "27     havde\n",
       "28       ham\n",
       "29       hun\n",
       "...      ...\n",
       "2752   hepsi\n",
       "2753     her\n",
       "2754     hiç\n",
       "2755    için\n",
       "2756     ile\n",
       "2757     ise\n",
       "2758     kez\n",
       "2759      ki\n",
       "2760     kim\n",
       "2761      mı\n",
       "2762      mu\n",
       "2763      mü\n",
       "2764   nasıl\n",
       "2765      ne\n",
       "2766   neden\n",
       "2767   nerde\n",
       "2768  nerede\n",
       "2769  nereye\n",
       "2770   niçin\n",
       "2771    niye\n",
       "2772       o\n",
       "2773   sanki\n",
       "2774     şey\n",
       "2775     siz\n",
       "2776      şu\n",
       "2777     tüm\n",
       "2778      ve\n",
       "2779    veya\n",
       "2780      ya\n",
       "2781    yani\n",
       "\n",
       "[2782 rows x 1 columns]"
      ]
     },
     "execution_count": 61,
     "metadata": {},
     "output_type": "execute_result"
    }
   ],
   "source": [
    "# On télécharge l'ensemble des stopwords --> http://www.nltk.org/nltk_data/\n",
    "# ON rassemble \"à la main\" l'ensemble des stopwords de tous les languages téléchargés (C:\\Users\\k_lemo\\Documents\\Stage\\stopwords\\All.txt)\n",
    "stopwords = pd.read_csv(\"\\Users\\k_lemo\\Documents\\Stage\\stopwords\\All.txt\", header=None, sep=r\"\\s+\")\n",
    "stopwords\n",
    "#example5 = [w for w in example4 if not w in set(stopwords.example4(\"german\"))] "
   ]
  },
  {
   "cell_type": "code",
   "execution_count": 64,
   "metadata": {
    "collapsed": true
   },
   "outputs": [],
   "source": [
    "stops = set(stopwords) \n",
    "example5 = [w for w in example4 if not w in set(stopwords[0])]\n",
    "#Optimisation : les stopwords avec des caractères spéciaux ne peuvent pas être détectés lorsqu'il sont sous forme de dataframe\n",
    "#--> Appliquer le filtre sur le fichier en dur mais cela ralentira considérablement le process."
   ]
  },
  {
   "cell_type": "code",
   "execution_count": 63,
   "metadata": {
    "collapsed": false
   },
   "outputs": [
    {
     "data": {
      "text/plain": [
       "[u'erfindung',\n",
       " u'dadurch',\n",
       " u'gekennzeichnet',\n",
       " u'dass',\n",
       " u'wand',\n",
       " u'angebrachtes',\n",
       " u'pissoir',\n",
       " u'aussen',\n",
       " u'aufklappbar',\n",
       " u'gr\\xf6sse',\n",
       " u'durchschnittlichen',\n",
       " u'wandfliese',\n",
       " u'entspricht',\n",
       " u'allenfalls',\n",
       " u'gr\\xf6sser',\n",
       " u'gew\\xf6hnliches',\n",
       " u'pissoir',\n",
       " u'stand',\n",
       " u'technik',\n",
       " u'folgt',\n",
       " u'pissoir',\n",
       " u'direkt',\n",
       " u'ganzen',\n",
       " u'funktion',\n",
       " u'wand',\n",
       " u'angebracht',\n",
       " u'erst',\n",
       " u'herausklappen',\n",
       " u'pissoirs',\n",
       " u'urin',\n",
       " u'aufnehmen',\n",
       " u'herausklappen',\n",
       " u'funktioniert',\n",
       " u'aufklappbarer',\n",
       " u'aschenbecher',\n",
       " u'pissoir',\n",
       " u'geschlossen',\n",
       " u'l\\xf6st',\n",
       " u'mechanik',\n",
       " u'wassersp\\xfclung',\n",
       " u'gr\\xf6sse',\n",
       " u'\\xfcberschreitet',\n",
       " u'normalgr\\xf6sse',\n",
       " u'pissoirs',\n",
       " u'gegenteil',\n",
       " u'klein',\n",
       " u'durchschnittliche',\n",
       " u'wandfliese',\n",
       " u'verwendeten',\n",
       " u'materialien',\n",
       " u'festgelegt',\n",
       " u'pissoir',\n",
       " u'ausf\\xfchrung',\n",
       " u'oben',\n",
       " u'unten',\n",
       " u'verschoben',\n",
       " u'vorteile',\n",
       " u'hygiene',\n",
       " u'platzersparnis',\n",
       " u'bez\\xfcglich',\n",
       " u'zeichnung',\n",
       " u'ausgeklappt',\n",
       " u'b',\n",
       " u'zugeklappt',\n",
       " u'aufklappbares',\n",
       " u'urinal']"
      ]
     },
     "execution_count": 63,
     "metadata": {},
     "output_type": "execute_result"
    }
   ],
   "source": [
    "example5"
   ]
  },
  {
   "cell_type": "code",
   "execution_count": 69,
   "metadata": {
    "collapsed": true
   },
   "outputs": [],
   "source": [
    "example6 = TfidfVectorizer(input = 'example5')"
   ]
  },
  {
   "cell_type": "code",
   "execution_count": 70,
   "metadata": {
    "collapsed": false
   },
   "outputs": [
    {
     "data": {
      "text/plain": [
       "TfidfVectorizer(analyzer=u'word', binary=False, decode_error=u'strict',\n",
       "        dtype=<type 'numpy.int64'>, encoding=u'utf-8', input='example5',\n",
       "        lowercase=True, max_df=1.0, max_features=None, min_df=1,\n",
       "        ngram_range=(1, 1), norm=u'l2', preprocessor=None, smooth_idf=True,\n",
       "        stop_words=None, strip_accents=None, sublinear_tf=False,\n",
       "        token_pattern=u'(?u)\\\\b\\\\w\\\\w+\\\\b', tokenizer=None, use_idf=True,\n",
       "        vocabulary=None)"
      ]
     },
     "execution_count": 70,
     "metadata": {},
     "output_type": "execute_result"
    }
   ],
   "source": [
    "example6"
   ]
  },
  {
   "cell_type": "code",
   "execution_count": null,
   "metadata": {
    "collapsed": true
   },
   "outputs": [],
   "source": []
  }
 ],
 "metadata": {
  "kernelspec": {
   "display_name": "Python 2",
   "language": "python",
   "name": "python2"
  },
  "language_info": {
   "codemirror_mode": {
    "name": "ipython",
    "version": 2
   },
   "file_extension": ".py",
   "mimetype": "text/x-python",
   "name": "python",
   "nbconvert_exporter": "python",
   "pygments_lexer": "ipython2",
   "version": "2.7.11"
  }
 },
 "nbformat": 4,
 "nbformat_minor": 0
}
