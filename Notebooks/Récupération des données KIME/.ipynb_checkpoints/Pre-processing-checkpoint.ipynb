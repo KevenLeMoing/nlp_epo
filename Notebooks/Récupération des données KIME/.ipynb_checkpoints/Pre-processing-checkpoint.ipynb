{
 "cells": [
  {
   "cell_type": "code",
   "execution_count": 88,
   "metadata": {
    "collapsed": true
   },
   "outputs": [],
   "source": [
    "import xml.etree.ElementTree\n",
    "from lxml import etree\n",
    "import re\n",
    "import pandas as pd\n",
    "\n",
    "import io\n",
    "from io import StringIO, BytesIO\n",
    "import bs4 as bs\n",
    "from bs4 import BeautifulSoup"
   ]
  },
  {
   "cell_type": "code",
   "execution_count": 89,
   "metadata": {
    "collapsed": false
   },
   "outputs": [
    {
     "data": {
      "text/html": [
       "<div>\n",
       "<table border=\"1\" class=\"dataframe\">\n",
       "  <thead>\n",
       "    <tr style=\"text-align: right;\">\n",
       "      <th></th>\n",
       "      <th>FamilyID</th>\n",
       "      <th>PublicationID</th>\n",
       "      <th>Titre</th>\n",
       "      <th>SectionID</th>\n",
       "      <th>Version</th>\n",
       "    </tr>\n",
       "  </thead>\n",
       "  <tbody>\n",
       "    <tr>\n",
       "      <th>0</th>\n",
       "      <td>5837021</td>\n",
       "      <td>381045856</td>\n",
       "      <td>No title</td>\n",
       "      <td>18d0bd58-042e-4ab0-8511-e202513e4bec</td>\n",
       "      <td>f9cc0ce5d363d172f4080a00a83c5c2f</td>\n",
       "    </tr>\n",
       "    <tr>\n",
       "      <th>1</th>\n",
       "      <td>5837021</td>\n",
       "      <td>381045856</td>\n",
       "      <td>No title</td>\n",
       "      <td>5be577c5-0c43-4850-b7eb-08854814bfdf</td>\n",
       "      <td>6088afb91e14b21ab90710218d17aefd</td>\n",
       "    </tr>\n",
       "  </tbody>\n",
       "</table>\n",
       "</div>"
      ],
      "text/plain": [
       "   FamilyID  PublicationID     Titre                             SectionID  \\\n",
       "0   5837021      381045856  No title  18d0bd58-042e-4ab0-8511-e202513e4bec   \n",
       "1   5837021      381045856  No title  5be577c5-0c43-4850-b7eb-08854814bfdf   \n",
       "\n",
       "                            Version  \n",
       "0  f9cc0ce5d363d172f4080a00a83c5c2f  \n",
       "1  6088afb91e14b21ab90710218d17aefd  "
      ]
     },
     "execution_count": 89,
     "metadata": {},
     "output_type": "execute_result"
    }
   ],
   "source": [
    "# Chargement des données d'extraction\n",
    "\n",
    "meta = pd.read_csv('\\Users\\k_lemo\\Documents\\Stage\\Data_EPO\\TextID_import.csv')\n",
    "xml = pd.read_csv('\\Users\\k_lemo\\Documents\\Stage\\Data_EPO\\TextXml_import.csv', encoding='utf-8')\n",
    "meta"
   ]
  },
  {
   "cell_type": "code",
   "execution_count": 90,
   "metadata": {
    "collapsed": false
   },
   "outputs": [
    {
     "data": {
      "text/html": [
       "<div>\n",
       "<table border=\"1\" class=\"dataframe\">\n",
       "  <thead>\n",
       "    <tr style=\"text-align: right;\">\n",
       "      <th></th>\n",
       "      <th>SectionID</th>\n",
       "      <th>Version</th>\n",
       "      <th>Full_text</th>\n",
       "      <th>Type</th>\n",
       "    </tr>\n",
       "  </thead>\n",
       "  <tbody>\n",
       "    <tr>\n",
       "      <th>1</th>\n",
       "      <td>5837021</td>\n",
       "      <td>4e8d2e953dee078440ebe0e05de83941</td>\n",
       "      <td>&lt;teiHeader&gt;&lt;fileDesc&gt;&lt;titleStmt&gt;&lt;bibl type=\"pa...</td>\n",
       "      <td>family</td>\n",
       "    </tr>\n",
       "    <tr>\n",
       "      <th>2</th>\n",
       "      <td>18d0bd58-042e-4ab0-8511-e202513e4bec</td>\n",
       "      <td>f9cc0ce5d363d172f4080a00a83c5c2f</td>\n",
       "      <td>&lt;div xml:lang=\"FR\" type=\"claims\"&gt;&lt;div n=\"0001\"...</td>\n",
       "      <td>claims</td>\n",
       "    </tr>\n",
       "    <tr>\n",
       "      <th>3</th>\n",
       "      <td>5be577c5-0c43-4850-b7eb-08854814bfdf</td>\n",
       "      <td>6088afb91e14b21ab90710218d17aefd</td>\n",
       "      <td>&lt;div xml:lang=\"FR\" xmlns:xml=\"http://www.w3.or...</td>\n",
       "      <td>description</td>\n",
       "    </tr>\n",
       "  </tbody>\n",
       "</table>\n",
       "</div>"
      ],
      "text/plain": [
       "                              SectionID                           Version  \\\n",
       "1                               5837021  4e8d2e953dee078440ebe0e05de83941   \n",
       "2  18d0bd58-042e-4ab0-8511-e202513e4bec  f9cc0ce5d363d172f4080a00a83c5c2f   \n",
       "3  5be577c5-0c43-4850-b7eb-08854814bfdf  6088afb91e14b21ab90710218d17aefd   \n",
       "\n",
       "                                           Full_text         Type  \n",
       "1  <teiHeader><fileDesc><titleStmt><bibl type=\"pa...       family  \n",
       "2  <div xml:lang=\"FR\" type=\"claims\"><div n=\"0001\"...       claims  \n",
       "3  <div xml:lang=\"FR\" xmlns:xml=\"http://www.w3.or...  description  "
      ]
     },
     "execution_count": 90,
     "metadata": {},
     "output_type": "execute_result"
    }
   ],
   "source": [
    "# Nettoyage de l'extraction depuis la collection XML : on enlève les '0' inutiles et on supprime les doublons\n",
    "\n",
    "xml['SectionID'] = [(xml['SectionID'][i]).lstrip('0') for i in range(len(xml.index))]\n",
    "xml = xml.drop_duplicates(keep='last')\n",
    "xml"
   ]
  },
  {
   "cell_type": "code",
   "execution_count": 91,
   "metadata": {
    "collapsed": false
   },
   "outputs": [
    {
     "data": {
      "text/html": [
       "<div>\n",
       "<table border=\"1\" class=\"dataframe\">\n",
       "  <thead>\n",
       "    <tr style=\"text-align: right;\">\n",
       "      <th></th>\n",
       "      <th>SectionID</th>\n",
       "      <th>Version</th>\n",
       "      <th>Full_text</th>\n",
       "      <th>Type</th>\n",
       "    </tr>\n",
       "  </thead>\n",
       "  <tbody>\n",
       "    <tr>\n",
       "      <th>1</th>\n",
       "      <td>5837021</td>\n",
       "      <td>4e8d2e953dee078440ebe0e05de83941</td>\n",
       "      <td>H02K  15/068</td>\n",
       "      <td>family</td>\n",
       "    </tr>\n",
       "    <tr>\n",
       "      <th>2</th>\n",
       "      <td>18d0bd58-042e-4ab0-8511-e202513e4bec</td>\n",
       "      <td>f9cc0ce5d363d172f4080a00a83c5c2f</td>\n",
       "      <td></td>\n",
       "      <td>claims</td>\n",
       "    </tr>\n",
       "    <tr>\n",
       "      <th>3</th>\n",
       "      <td>5be577c5-0c43-4850-b7eb-08854814bfdf</td>\n",
       "      <td>6088afb91e14b21ab90710218d17aefd</td>\n",
       "      <td>INSTITUT NATIONAL DE LA PROPRIÃTÃ INDUSTRIELLE...</td>\n",
       "      <td>description</td>\n",
       "    </tr>\n",
       "  </tbody>\n",
       "</table>\n",
       "</div>"
      ],
      "text/plain": [
       "                              SectionID                           Version  \\\n",
       "1                               5837021  4e8d2e953dee078440ebe0e05de83941   \n",
       "2  18d0bd58-042e-4ab0-8511-e202513e4bec  f9cc0ce5d363d172f4080a00a83c5c2f   \n",
       "3  5be577c5-0c43-4850-b7eb-08854814bfdf  6088afb91e14b21ab90710218d17aefd   \n",
       "\n",
       "                                           Full_text         Type  \n",
       "1                                H02K  15/068              family  \n",
       "2                                                          claims  \n",
       "3  INSTITUT NATIONAL DE LA PROPRIÃTÃ INDUSTRIELLE...  description  "
      ]
     },
     "execution_count": 91,
     "metadata": {},
     "output_type": "execute_result"
    }
   ],
   "source": [
    "# On parse le xml\n",
    "\n",
    "for index, row in xml.iterrows():\n",
    "    ft = row['Full_text']\n",
    "    if row['Type']=='family':\n",
    "        ft = BeautifulSoup(ft).find('ident')\n",
    "        row['Full_text'] = ft.text\n",
    "    else:\n",
    "        ft_parse = etree.parse(StringIO(ft)) \n",
    "        ft_notags = etree.tostring(ft_parse, encoding='utf-8', method='text')\n",
    "        row['Full_text'] = ft_notags   \n",
    "xml"
   ]
  },
  {
   "cell_type": "code",
   "execution_count": 92,
   "metadata": {
    "collapsed": false
   },
   "outputs": [
    {
     "data": {
      "text/html": [
       "<div>\n",
       "<table border=\"1\" class=\"dataframe\">\n",
       "  <thead>\n",
       "    <tr style=\"text-align: right;\">\n",
       "      <th></th>\n",
       "      <th>FamilyID</th>\n",
       "      <th>PublicationID</th>\n",
       "      <th>Titre</th>\n",
       "      <th>Full_text</th>\n",
       "      <th>Type</th>\n",
       "    </tr>\n",
       "  </thead>\n",
       "  <tbody>\n",
       "    <tr>\n",
       "      <th>0</th>\n",
       "      <td>5837021</td>\n",
       "      <td>381045856</td>\n",
       "      <td>No title</td>\n",
       "      <td></td>\n",
       "      <td>claims</td>\n",
       "    </tr>\n",
       "    <tr>\n",
       "      <th>1</th>\n",
       "      <td>5837021</td>\n",
       "      <td>381045856</td>\n",
       "      <td>No title</td>\n",
       "      <td>INSTITUT NATIONAL DE LA PROPRIÃTÃ INDUSTRIELLE...</td>\n",
       "      <td>description</td>\n",
       "    </tr>\n",
       "  </tbody>\n",
       "</table>\n",
       "</div>"
      ],
      "text/plain": [
       "   FamilyID  PublicationID     Titre  \\\n",
       "0   5837021      381045856  No title   \n",
       "1   5837021      381045856  No title   \n",
       "\n",
       "                                           Full_text         Type  \n",
       "0                                                          claims  \n",
       "1  INSTITUT NATIONAL DE LA PROPRIÃTÃ INDUSTRIELLE...  description  "
      ]
     },
     "execution_count": 92,
     "metadata": {},
     "output_type": "execute_result"
    }
   ],
   "source": [
    "# Jointure pour tous les full_text sauf pour les classes CPC\n",
    "\n",
    "data = meta.merge(xml, on=\"SectionID\")\n",
    "data = data.drop(['SectionID', 'Version_x','Version_y'], axis=1)\n",
    "data"
   ]
  },
  {
   "cell_type": "code",
   "execution_count": 8,
   "metadata": {
    "collapsed": false
   },
   "outputs": [
    {
     "ename": "NameError",
     "evalue": "name 'data3' is not defined",
     "output_type": "error",
     "traceback": [
      "\u001b[1;31m---------------------------------------------------------------------------\u001b[0m",
      "\u001b[1;31mNameError\u001b[0m                                 Traceback (most recent call last)",
      "\u001b[1;32m<ipython-input-8-9c1f47efb9e8>\u001b[0m in \u001b[0;36m<module>\u001b[1;34m()\u001b[0m\n\u001b[1;32m----> 1\u001b[1;33m \u001b[0mdata3\u001b[0m\u001b[1;33m\u001b[0m\u001b[0m\n\u001b[0m",
      "\u001b[1;31mNameError\u001b[0m: name 'data3' is not defined"
     ]
    }
   ],
   "source": [
    "data3"
   ]
  },
  {
   "cell_type": "code",
   "execution_count": null,
   "metadata": {
    "collapsed": true
   },
   "outputs": [],
   "source": [
    "data.to_csv('\\Users\\k_lemo\\Documents\\Stage\\Data_EPO\\FinalData.csv', sep=',', encoding='utf-8', index=False)"
   ]
  }
 ],
 "metadata": {
  "kernelspec": {
   "display_name": "Python 2",
   "language": "python",
   "name": "python2"
  },
  "language_info": {
   "codemirror_mode": {
    "name": "ipython",
    "version": 2
   },
   "file_extension": ".py",
   "mimetype": "text/x-python",
   "name": "python",
   "nbconvert_exporter": "python",
   "pygments_lexer": "ipython2",
   "version": "2.7.11"
  }
 },
 "nbformat": 4,
 "nbformat_minor": 0
}
